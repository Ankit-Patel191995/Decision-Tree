{
 "cells": [
  {
   "cell_type": "code",
   "execution_count": 1,
   "id": "0b31eb88",
   "metadata": {},
   "outputs": [],
   "source": [
    "import pandas as pd\n",
    "import numpy as np\n",
    "import matplotlib.pyplot as plt\n",
    "import seaborn as sns\n",
    "import warnings\n",
    "warnings.filterwarnings(\"ignore\")"
   ]
  },
  {
   "cell_type": "code",
   "execution_count": 2,
   "id": "fa382287",
   "metadata": {},
   "outputs": [],
   "source": [
    "df=pd.read_csv(\"heart.csv\")"
   ]
  },
  {
   "cell_type": "code",
   "execution_count": 3,
   "id": "4817f366",
   "metadata": {},
   "outputs": [
    {
     "data": {
      "text/html": [
       "<div>\n",
       "<style scoped>\n",
       "    .dataframe tbody tr th:only-of-type {\n",
       "        vertical-align: middle;\n",
       "    }\n",
       "\n",
       "    .dataframe tbody tr th {\n",
       "        vertical-align: top;\n",
       "    }\n",
       "\n",
       "    .dataframe thead th {\n",
       "        text-align: right;\n",
       "    }\n",
       "</style>\n",
       "<table border=\"1\" class=\"dataframe\">\n",
       "  <thead>\n",
       "    <tr style=\"text-align: right;\">\n",
       "      <th></th>\n",
       "      <th>age</th>\n",
       "      <th>sex</th>\n",
       "      <th>cp</th>\n",
       "      <th>trestbps</th>\n",
       "      <th>chol</th>\n",
       "      <th>fbs</th>\n",
       "      <th>restecg</th>\n",
       "      <th>thalach</th>\n",
       "      <th>exang</th>\n",
       "      <th>oldpeak</th>\n",
       "      <th>slope</th>\n",
       "      <th>ca</th>\n",
       "      <th>thal</th>\n",
       "      <th>target</th>\n",
       "    </tr>\n",
       "  </thead>\n",
       "  <tbody>\n",
       "    <tr>\n",
       "      <th>0</th>\n",
       "      <td>63</td>\n",
       "      <td>1</td>\n",
       "      <td>3</td>\n",
       "      <td>145</td>\n",
       "      <td>233</td>\n",
       "      <td>1</td>\n",
       "      <td>0</td>\n",
       "      <td>150</td>\n",
       "      <td>0</td>\n",
       "      <td>2.3</td>\n",
       "      <td>0</td>\n",
       "      <td>0</td>\n",
       "      <td>1</td>\n",
       "      <td>1</td>\n",
       "    </tr>\n",
       "    <tr>\n",
       "      <th>1</th>\n",
       "      <td>37</td>\n",
       "      <td>1</td>\n",
       "      <td>2</td>\n",
       "      <td>130</td>\n",
       "      <td>250</td>\n",
       "      <td>0</td>\n",
       "      <td>1</td>\n",
       "      <td>187</td>\n",
       "      <td>0</td>\n",
       "      <td>3.5</td>\n",
       "      <td>0</td>\n",
       "      <td>0</td>\n",
       "      <td>2</td>\n",
       "      <td>1</td>\n",
       "    </tr>\n",
       "    <tr>\n",
       "      <th>2</th>\n",
       "      <td>41</td>\n",
       "      <td>0</td>\n",
       "      <td>1</td>\n",
       "      <td>130</td>\n",
       "      <td>204</td>\n",
       "      <td>0</td>\n",
       "      <td>0</td>\n",
       "      <td>172</td>\n",
       "      <td>0</td>\n",
       "      <td>1.4</td>\n",
       "      <td>2</td>\n",
       "      <td>0</td>\n",
       "      <td>2</td>\n",
       "      <td>1</td>\n",
       "    </tr>\n",
       "    <tr>\n",
       "      <th>3</th>\n",
       "      <td>56</td>\n",
       "      <td>1</td>\n",
       "      <td>1</td>\n",
       "      <td>120</td>\n",
       "      <td>236</td>\n",
       "      <td>0</td>\n",
       "      <td>1</td>\n",
       "      <td>178</td>\n",
       "      <td>0</td>\n",
       "      <td>0.8</td>\n",
       "      <td>2</td>\n",
       "      <td>0</td>\n",
       "      <td>2</td>\n",
       "      <td>1</td>\n",
       "    </tr>\n",
       "    <tr>\n",
       "      <th>4</th>\n",
       "      <td>57</td>\n",
       "      <td>0</td>\n",
       "      <td>0</td>\n",
       "      <td>120</td>\n",
       "      <td>354</td>\n",
       "      <td>0</td>\n",
       "      <td>1</td>\n",
       "      <td>163</td>\n",
       "      <td>1</td>\n",
       "      <td>0.6</td>\n",
       "      <td>2</td>\n",
       "      <td>0</td>\n",
       "      <td>2</td>\n",
       "      <td>1</td>\n",
       "    </tr>\n",
       "    <tr>\n",
       "      <th>...</th>\n",
       "      <td>...</td>\n",
       "      <td>...</td>\n",
       "      <td>...</td>\n",
       "      <td>...</td>\n",
       "      <td>...</td>\n",
       "      <td>...</td>\n",
       "      <td>...</td>\n",
       "      <td>...</td>\n",
       "      <td>...</td>\n",
       "      <td>...</td>\n",
       "      <td>...</td>\n",
       "      <td>...</td>\n",
       "      <td>...</td>\n",
       "      <td>...</td>\n",
       "    </tr>\n",
       "    <tr>\n",
       "      <th>298</th>\n",
       "      <td>57</td>\n",
       "      <td>0</td>\n",
       "      <td>0</td>\n",
       "      <td>140</td>\n",
       "      <td>241</td>\n",
       "      <td>0</td>\n",
       "      <td>1</td>\n",
       "      <td>123</td>\n",
       "      <td>1</td>\n",
       "      <td>0.2</td>\n",
       "      <td>1</td>\n",
       "      <td>0</td>\n",
       "      <td>3</td>\n",
       "      <td>0</td>\n",
       "    </tr>\n",
       "    <tr>\n",
       "      <th>299</th>\n",
       "      <td>45</td>\n",
       "      <td>1</td>\n",
       "      <td>3</td>\n",
       "      <td>110</td>\n",
       "      <td>264</td>\n",
       "      <td>0</td>\n",
       "      <td>1</td>\n",
       "      <td>132</td>\n",
       "      <td>0</td>\n",
       "      <td>1.2</td>\n",
       "      <td>1</td>\n",
       "      <td>0</td>\n",
       "      <td>3</td>\n",
       "      <td>0</td>\n",
       "    </tr>\n",
       "    <tr>\n",
       "      <th>300</th>\n",
       "      <td>68</td>\n",
       "      <td>1</td>\n",
       "      <td>0</td>\n",
       "      <td>144</td>\n",
       "      <td>193</td>\n",
       "      <td>1</td>\n",
       "      <td>1</td>\n",
       "      <td>141</td>\n",
       "      <td>0</td>\n",
       "      <td>3.4</td>\n",
       "      <td>1</td>\n",
       "      <td>2</td>\n",
       "      <td>3</td>\n",
       "      <td>0</td>\n",
       "    </tr>\n",
       "    <tr>\n",
       "      <th>301</th>\n",
       "      <td>57</td>\n",
       "      <td>1</td>\n",
       "      <td>0</td>\n",
       "      <td>130</td>\n",
       "      <td>131</td>\n",
       "      <td>0</td>\n",
       "      <td>1</td>\n",
       "      <td>115</td>\n",
       "      <td>1</td>\n",
       "      <td>1.2</td>\n",
       "      <td>1</td>\n",
       "      <td>1</td>\n",
       "      <td>3</td>\n",
       "      <td>0</td>\n",
       "    </tr>\n",
       "    <tr>\n",
       "      <th>302</th>\n",
       "      <td>57</td>\n",
       "      <td>0</td>\n",
       "      <td>1</td>\n",
       "      <td>130</td>\n",
       "      <td>236</td>\n",
       "      <td>0</td>\n",
       "      <td>0</td>\n",
       "      <td>174</td>\n",
       "      <td>0</td>\n",
       "      <td>0.0</td>\n",
       "      <td>1</td>\n",
       "      <td>1</td>\n",
       "      <td>2</td>\n",
       "      <td>0</td>\n",
       "    </tr>\n",
       "  </tbody>\n",
       "</table>\n",
       "<p>303 rows × 14 columns</p>\n",
       "</div>"
      ],
      "text/plain": [
       "     age  sex  cp  trestbps  chol  fbs  restecg  thalach  exang  oldpeak  \\\n",
       "0     63    1   3       145   233    1        0      150      0      2.3   \n",
       "1     37    1   2       130   250    0        1      187      0      3.5   \n",
       "2     41    0   1       130   204    0        0      172      0      1.4   \n",
       "3     56    1   1       120   236    0        1      178      0      0.8   \n",
       "4     57    0   0       120   354    0        1      163      1      0.6   \n",
       "..   ...  ...  ..       ...   ...  ...      ...      ...    ...      ...   \n",
       "298   57    0   0       140   241    0        1      123      1      0.2   \n",
       "299   45    1   3       110   264    0        1      132      0      1.2   \n",
       "300   68    1   0       144   193    1        1      141      0      3.4   \n",
       "301   57    1   0       130   131    0        1      115      1      1.2   \n",
       "302   57    0   1       130   236    0        0      174      0      0.0   \n",
       "\n",
       "     slope  ca  thal  target  \n",
       "0        0   0     1       1  \n",
       "1        0   0     2       1  \n",
       "2        2   0     2       1  \n",
       "3        2   0     2       1  \n",
       "4        2   0     2       1  \n",
       "..     ...  ..   ...     ...  \n",
       "298      1   0     3       0  \n",
       "299      1   0     3       0  \n",
       "300      1   2     3       0  \n",
       "301      1   1     3       0  \n",
       "302      1   1     2       0  \n",
       "\n",
       "[303 rows x 14 columns]"
      ]
     },
     "execution_count": 3,
     "metadata": {},
     "output_type": "execute_result"
    }
   ],
   "source": [
    "df"
   ]
  },
  {
   "cell_type": "code",
   "execution_count": 4,
   "id": "e0ca28d0",
   "metadata": {},
   "outputs": [
    {
     "ename": "SyntaxError",
     "evalue": "invalid syntax (4101769866.py, line 1)",
     "output_type": "error",
     "traceback": [
      "\u001b[1;36m  Input \u001b[1;32mIn [4]\u001b[1;36m\u001b[0m\n\u001b[1;33m    **age**: the age of the patient in years.\u001b[0m\n\u001b[1;37m    ^\u001b[0m\n\u001b[1;31mSyntaxError\u001b[0m\u001b[1;31m:\u001b[0m invalid syntax\n"
     ]
    }
   ],
   /*"source": [
    "**age**: the age of the patient in years.\n",
    "\n",
    "**sex**: the sex of the patient (1 = male, 0 = female).\n",
    "\n",
    "**cp**: the type of chest pain the patient experienced (1 = typical angina, 2 = atypical angina, 3 = non-anginal pain, 4 = asymptomatic).\n",
    "\n",
    "**trestbps**: the resting blood pressure of the patient in mm Hg.\n",
    "\n",
    "**chol**: the serum cholesterol level of the patient in mg/dl.\n",
    "\n",
    "**fbs**: the fasting blood sugar level of the patient, measured in mg/dl (1 = high, 0 = low).\n",
    "\n",
    "**restecg**: the resting electrocardiographic results of the patient (0 = normal, 1 = ST-T wave abnormality, 2 = left ventricular hypertrophy).\n",
    "\n",
    "(Resting electrocardiographic (ECG or EKG) is a non-invasive diagnostic test that records the electrical activity of the heart while the patient is at rest. The test is performed using an electrocardiogram machine, which records the electrical signals produced by the heart through electrodes placed on the chest, arms, and legs.)\n",
    "\n",
    "**thalach**: the maximum heart rate achieved by the patient during exercise.\n",
    "exang: whether the patient experienced exercise-induced angina (1 = yes, 0 = no).\n",
    "\n",
    "**oldpeak**: the ST depression induced by exercise relative to rest.\n",
    "slope: the slope of the ST segment during peak exercise (1 = upsloping, 2 = flat, 3 = downsloping).\n",
    "\n",
    "(ST depression induced by exercise relative to rest\n",
    "Oldpeak, also known as ST depression, is a common parameter measured during an exercise stress test to evaluate the presence and severity of coronary artery disease. It represents the amount of ST segment depression that occurs on an electrocardiogram (ECG) during exercise compared to rest.)\n",
    "\n",
    "**ca**: the number of major vessels colored by fluoroscopy (0-3).\n",
    "\n",
    "(he number of major vessels (0-3) colored by fluoroscopy is a parameter that is used to assess the severity of coronary artery disease (CAD) in patients who undergo coronary angiography)\n",
    "\n",
    "**thal**: the type of thallium scan performed on the patient (1 = fixed defect, 2 = reversible defect, 3 = normal).\n",
    "\n",
    "target: the presence of heart disease in the patient (0 = no disease, 1 = disease present).\n"
   ]*/
  },
  {
   "cell_type": "code",
   "execution_count": null,
   "id": "205e8659",
   "metadata": {},
   "outputs": [],
   "source": [
    "# EDA - Exploratory Data Analysis"
   ]
  },
  {
   "cell_type": "code",
   "execution_count": 5,
   "id": "aaa93bf2",
   "metadata": {},
   "outputs": [
    {
     "data": {
      "text/plain": [
       "age         0\n",
       "sex         0\n",
       "cp          0\n",
       "trestbps    0\n",
       "chol        0\n",
       "fbs         0\n",
       "restecg     0\n",
       "thalach     0\n",
       "exang       0\n",
       "oldpeak     0\n",
       "slope       0\n",
       "ca          0\n",
       "thal        0\n",
       "target      0\n",
       "dtype: int64"
      ]
     },
     "execution_count": 5,
     "metadata": {},
     "output_type": "execute_result"
    }
   ],
   "source": [
    "df.isnull().sum()"
   ]
  },
  {
   "cell_type": "code",
   "execution_count": 6,
   "id": "91933f98",
   "metadata": {},
   "outputs": [
    {
     "name": "stdout",
     "output_type": "stream",
     "text": [
      "<class 'pandas.core.frame.DataFrame'>\n",
      "RangeIndex: 303 entries, 0 to 302\n",
      "Data columns (total 14 columns):\n",
      " #   Column    Non-Null Count  Dtype  \n",
      "---  ------    --------------  -----  \n",
      " 0   age       303 non-null    int64  \n",
      " 1   sex       303 non-null    int64  \n",
      " 2   cp        303 non-null    int64  \n",
      " 3   trestbps  303 non-null    int64  \n",
      " 4   chol      303 non-null    int64  \n",
      " 5   fbs       303 non-null    int64  \n",
      " 6   restecg   303 non-null    int64  \n",
      " 7   thalach   303 non-null    int64  \n",
      " 8   exang     303 non-null    int64  \n",
      " 9   oldpeak   303 non-null    float64\n",
      " 10  slope     303 non-null    int64  \n",
      " 11  ca        303 non-null    int64  \n",
      " 12  thal      303 non-null    int64  \n",
      " 13  target    303 non-null    int64  \n",
      "dtypes: float64(1), int64(13)\n",
      "memory usage: 33.3 KB\n"
     ]
    }
   ],
   "source": [
    "df.info()"
   ]
  },
  {
   "cell_type": "code",
   "execution_count": 7,
   "id": "01e5b58e",
   "metadata": {},
   "outputs": [
    {
     "data": {
      "text/plain": [
       "1"
      ]
     },
     "execution_count": 7,
     "metadata": {},
     "output_type": "execute_result"
    }
   ],
   "source": [
    "df.duplicated().sum()"
   ]
  },
  {
   "cell_type": "code",
   "execution_count": 8,
   "id": "49db506b",
   "metadata": {},
   "outputs": [],
   "source": [
    "df.drop_duplicates(inplace=True)"
   ]
  },
  {
   "cell_type": "code",
   "execution_count": 9,
   "id": "2faf9a54",
   "metadata": {},
   "outputs": [
    {
     "data": {
      "text/plain": [
       "0"
      ]
     },
     "execution_count": 9,
     "metadata": {},
     "output_type": "execute_result"
    }
   ],
   "source": [
    "df.duplicated().sum()"
   ]
  },
  {
   "cell_type": "code",
   "execution_count": 10,
   "id": "76464b0f",
   "metadata": {},
   "outputs": [
    {
     "data": {
      "text/plain": [
       "Index(['age', 'sex', 'cp', 'trestbps', 'chol', 'fbs', 'restecg', 'thalach',\n",
       "       'exang', 'oldpeak', 'slope', 'ca', 'thal', 'target'],\n",
       "      dtype='object')"
      ]
     },
     "execution_count": 10,
     "metadata": {},
     "output_type": "execute_result"
    }
   ],
   "source": [
    "col=df.columns\n",
    "col"
   ]
  },
  {
   "cell_type": "code",
   "execution_count": 11,
   "id": "6d2a9ba9",
   "metadata": {},
   "outputs": [
    {
     "data": {
      "image/png": "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\n",
      "text/plain": [
       "<Figure size 432x288 with 1 Axes>"
      ]
     },
     "metadata": {
      "needs_background": "light"
     },
     "output_type": "display_data"
    },
    {
     "data": {
      "image/png": "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\n",
      "text/plain": [
       "<Figure size 432x288 with 1 Axes>"
      ]
     },
     "metadata": {
      "needs_background": "light"
     },
     "output_type": "display_data"
    },
    {
     "data": {
      "image/png": "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\n",
      "text/plain": [
       "<Figure size 432x288 with 1 Axes>"
      ]
     },
     "metadata": {
      "needs_background": "light"
     },
     "output_type": "display_data"
    },
    {
     "data": {
      "image/png": "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\n",
      "text/plain": [
       "<Figure size 432x288 with 1 Axes>"
      ]
     },
     "metadata": {
      "needs_background": "light"
     },
     "output_type": "display_data"
    },
    {
     "data": {
      "image/png": "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\n",
      "text/plain": [
       "<Figure size 432x288 with 1 Axes>"
      ]
     },
     "metadata": {
      "needs_background": "light"
     },
     "output_type": "display_data"
    },
    {
     "data": {
      "image/png": "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\n",
      "text/plain": [
       "<Figure size 432x288 with 1 Axes>"
      ]
     },
     "metadata": {
      "needs_background": "light"
     },
     "output_type": "display_data"
    },
    {
     "data": {
      "image/png": "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\n",
      "text/plain": [
       "<Figure size 432x288 with 1 Axes>"
      ]
     },
     "metadata": {
      "needs_background": "light"
     },
     "output_type": "display_data"
    },
    {
     "data": {
      "image/png": "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\n",
      "text/plain": [
       "<Figure size 432x288 with 1 Axes>"
      ]
     },
     "metadata": {
      "needs_background": "light"
     },
     "output_type": "display_data"
    },
    {
     "data": {
      "image/png": "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\n",
      "text/plain": [
       "<Figure size 432x288 with 1 Axes>"
      ]
     },
     "metadata": {
      "needs_background": "light"
     },
     "output_type": "display_data"
    },
    {
     "data": {
      "image/png": "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\n",
      "text/plain": [
       "<Figure size 432x288 with 1 Axes>"
      ]
     },
     "metadata": {
      "needs_background": "light"
     },
     "output_type": "display_data"
    },
    {
     "data": {
      "image/png": "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\n",
      "text/plain": [
       "<Figure size 432x288 with 1 Axes>"
      ]
     },
     "metadata": {
      "needs_background": "light"
     },
     "output_type": "display_data"
    },
    {
     "data": {
      "image/png": "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\n",
      "text/plain": [
       "<Figure size 432x288 with 1 Axes>"
      ]
     },
     "metadata": {
      "needs_background": "light"
     },
     "output_type": "display_data"
    },
    {
     "data": {
      "image/png": "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\n",
      "text/plain": [
       "<Figure size 432x288 with 1 Axes>"
      ]
     },
     "metadata": {
      "needs_background": "light"
     },
     "output_type": "display_data"
    },
    {
     "data": {
      "image/png": "iVBORw0KGgoAAAANSUhEUgAAAYIAAAEGCAYAAABo25JHAAAAOXRFWHRTb2Z0d2FyZQBNYXRwbG90bGliIHZlcnNpb24zLjUuMSwgaHR0cHM6Ly9tYXRwbG90bGliLm9yZy/YYfK9AAAACXBIWXMAAAsTAAALEwEAmpwYAAAObUlEQVR4nO3df6zdd13H8edrLXNZ+LFirwjtShdS0MZsA44DiT8Ao7QQLAKSDXA6iXWBEf3HsD/8MUM0MYFEfgyahpQx/6CJMKWQ4v4wyqK42FuEsQ6H1/Gj1053x3DDYZyFt3/cMziee253Vu/nnt1+no/kpvf7/X7uue+btPfZ7znne06qCklSv86b9QCSpNkyBJLUOUMgSZ0zBJLUOUMgSZ3bPOsBHq+tW7fWzp07Zz2GJG0ox48fv7+q5iYd23Ah2LlzJ/Pz87MeQ5I2lCRfW+2Ydw1JUucMgSR1zhBIUucMgSR1zhBIUueahSDJoST3JblzleNJ8t4kC0nuSPKCVrNIklbX8ozgJmDPGY7vBXYNP/YDH2w4iyRpFc1CUFW3AQ+cYck+4OZadjtwUZJntppHkjTZLC8o2wacHNleHO67d3xhkv0snzWwY8eOdRlO55gbnjbrCdbWDQ/OegKdQ2YZgkzYN/FdcqrqIHAQYDAY+E46etzyBw9xrrwJUxLqhllPoXPJLJ81tAhcPLK9HTg1o1kkqVuzDMER4Orhs4deDDxYVSvuFpIktdXsrqEkHwVeCmxNsgj8PvAkgKo6ABwFXgksAN8Grmk1iyRpdc1CUFVXPcbxAt7W6vtLkqbjlcWS1DlDIEmdMwSS1DlDIEmdMwSS1DlDIEmdMwSS1DlDIEmdMwSS1DlDIEmdMwSS1DlDIEmdMwSS1DlDIEmdMwSS1DlDIEmdMwSS1DlDIEmdMwSS1DlDIEmdMwSS1DlDIEmdMwSS1DlDIEmdMwSS1DlDIEmdMwSS1DlDIEmdMwSS1DlDIEmdMwSS1LmmIUiyJ8ndSRaSXD/h+NOSfDLJF5KcSHJNy3kkSSs1C0GSTcCNwF5gN3BVkt1jy94G3FVVlwEvBd6d5PxWM0mSVmp5RnAFsFBV91TVI8BhYN/YmgKekiTAk4EHgNMNZ5IkjWkZgm3AyZHtxeG+Ue8HfhQ4BXwR+M2q+u74DSXZn2Q+yfzS0lKreSWpSy1DkAn7amz7FcDngWcBlwPvT/LUFV9UdbCqBlU1mJubW+s5JalrLUOwCFw8sr2d5f/5j7oGuKWWLQBfAX6k4UySpDEtQ3AM2JXkkuEDwFcCR8bWfB34WYAkzwCeB9zTcCZJ0pjNrW64qk4nuQ64FdgEHKqqE0muHR4/ALwTuCnJF1m+K+kdVXV/q5kkSSs1CwFAVR0Fjo7tOzDy+Sng51vOIEk6M68slqTOGQJJ6pwhkKTOGQJJ6pwhkKTOGQJJ6pwhkKTOGQJJ6pwhkKTOGQJJ6pwhkKTOGQJJ6pwhkKTOGQJJ6pwhkKTOGQJJ6pwhkKTOGQJJ6pwhkKTOGQJJ6pwhkKTOGQJJ6pwhkKTOGQJJ6pwhkKTOGQJJ6pwhkKTOGQJJ6pwhkKTOGQJJ6lzTECTZk+TuJAtJrl9lzUuTfD7JiSSfaTmPJGmlza1uOMkm4Ebg54BF4FiSI1V118iai4APAHuq6utJfqjVPJKkyVqeEVwBLFTVPVX1CHAY2De25o3ALVX1dYCquq/hPJKkCVqGYBtwcmR7cbhv1HOBLUn+JsnxJFdPuqEk+5PMJ5lfWlpqNK4k9allCDJhX41tbwZeCLwKeAXwu0meu+KLqg5W1aCqBnNzc2s/qSR1rNljBCyfAVw8sr0dODVhzf1V9TDwcJLbgMuALzecS5I0ouUZwTFgV5JLkpwPXAkcGVvzCeCnkmxOciHwIuBLDWeSJI1pdkZQVaeTXAfcCmwCDlXViSTXDo8fqKovJflL4A7gu8CHqurOVjNJklZK1fjd9k9sg8Gg5ufnZz2GNpgkbLS/66s5l34WrZ8kx6tqMOmYVxZLUucMgSR1zhBIUuemCkGSv5pmnyRp4znjs4aSXABcCGxNsoXvXyT2VOBZjWeTJK2Dx3r66G8Av8XyL/3jfD8ED7H8gnKSpA3ujCGoqvcA70ny9qp63zrNJElaR1NdUFZV70vyEmDn6NdU1c2N5pIkrZOpQpDkT4HnAJ8HvjPcXYAhkKQNbtqXmBgAu8vLGSXpnDPtdQR3Aj/cchBJ0mxMe0awFbgryT8A//3ozqr6hSZTSZLWzbQhuKHlEJKk2Zn2WUOfaT2IJGk2pn3W0Lf4/ttMng88CXi4qp7aajBJ0vqY9ozgKaPbSV4DXNFiIEnS+jqrVx+tqr8AXr62o0iSZmHau4ZeO7J5HsvXFXhNgSSdA6Z91tCrRz4/DXwV2Lfm00iS1t20jxFc03oQSdJsTPvGNNuT/HmS+5L8e5KPJ9neejhJUnvTPlj8YeAIy+9LsA345HCfJGmDmzYEc1X14ao6Pfy4CZhrOJckaZ1MG4L7k7w5yabhx5uBb7QcTJK0PqYNwa8BbwD+DbgXeD3gA8iSdA6Y9umj7wR+paq+CZDk6cC7WA6EJGkDm/aM4NJHIwBQVQ8Az28zkiRpPU0bgvOSbHl0Y3hGMO3ZhCTpCWzaX+bvBj6b5GMsv7TEG4A/bDaVJGndTHtl8c1J5ll+obkAr62qu5pOJklaF1PfvTP8xe8vf0k6x5zVy1BPK8meJHcnWUhy/RnW/XiS7yR5fct5JEkrNQtBkk3AjcBeYDdwVZLdq6z7Y+DWVrNIklbX8ozgCmChqu6pqkeAw0x+6eq3Ax8H7ms4iyRpFS1DsA04ObK9ONz3PUm2Ab8IHDjTDSXZn2Q+yfzS0tKaDypJPWsZgkzYN/6uZn8CvKOqvnOmG6qqg1U1qKrB3JyvdSdJa6nlRWGLwMUj29uBU2NrBsDhJABbgVcmOT18T2RJ0jpoGYJjwK4klwD/ClwJvHF0QVVd8ujnSW4CPmUEJGl9NQtBVZ1Och3LzwbaBByqqhNJrh0eP+PjApKk9dH09YKq6ihwdGzfxABU1a+2nEWSNFnTC8okSU98hkCSOmcIJKlzhkCSOmcIJKlzhkCSOmcIJKlzhkCSOmcIJKlzhkCSOmcIJKlzhkCSOmcIJKlzhkCSOmcIJKlzhkCSOmcIJKlzhkCSOmcIJKlzhkCSOmcIJKlzhkCSOmcIJKlzhkCSOmcIJKlzhkCSOmcIJKlzhkCSOmcIJKlzhkCSOtc0BEn2JLk7yUKS6yccf1OSO4Yfn01yWct5JEkrNQtBkk3AjcBeYDdwVZLdY8u+AvxMVV0KvBM42GoeSdJkLc8IrgAWquqeqnoEOAzsG11QVZ+tqm8ON28HtjecR5I0QcsQbANOjmwvDvet5i3ApycdSLI/yXyS+aWlpTUcUZLUMgSZsK8mLkxexnII3jHpeFUdrKpBVQ3m5ubWcERJ0uaGt70IXDyyvR04Nb4oyaXAh4C9VfWNhvNIkiZoeUZwDNiV5JIk5wNXAkdGFyTZAdwC/HJVfbnhLJKkVTQ7I6iq00muA24FNgGHqupEkmuHxw8Avwf8IPCBJACnq2rQaiZJ0kqpmni3/RPWYDCo+fn5WY+hDSYJG+3v+mrOpZ9F6yfJ8dX+o+2VxZLUOUMgSZ0zBJLUOUMgSZ0zBJLUOUMgSZ0zBJLUOUMgSZ0zBJLUOUMgSZ0zBJLUOUMgSZ0zBJLUOUMgSZ0zBJLUOUMgSZ0zBJLUOUMgSZ0zBJLUOUMgSZ0zBJLUOUMgSZ0zBJLUOUMgSZ0zBJLUOUMgSZ0zBJLUOUMgSZ0zBJLUOUMgSZ0zBJLUuaYhSLInyd1JFpJcP+F4krx3ePyOJC9oOY8kaaVmIUiyCbgR2AvsBq5Ksnts2V5g1/BjP/DBVvNIkiZreUZwBbBQVfdU1SPAYWDf2Jp9wM217HbgoiTPbDiTJGnM5oa3vQ04ObK9CLxoijXbgHtHFyXZz/IZAzt27FjzQdWHJLMeYU1s2bJl1iPoHNMyBJP+1dVZrKGqDgIHAQaDwYrj0mOp8q+NtJqWdw0tAhePbG8HTp3FGklSQy1DcAzYleSSJOcDVwJHxtYcAa4ePnvoxcCDVXXv+A1JktppdtdQVZ1Och1wK7AJOFRVJ5JcOzx+ADgKvBJYAL4NXNNqHknSZC0fI6CqjrL8y35034GRzwt4W8sZJEln5pXFktQ5QyBJnTMEktQ5QyBJnctGu9AmyRLwtVnPIa1iK3D/rIeQJnh2Vc1NOrDhQiA9kSWZr6rBrOeQHg/vGpKkzhkCSeqcIZDW1sFZDyA9Xj5GIEmd84xAkjpnCCSpc4ZAWgNJDiW5L8mds55FerwMgbQ2bgL2zHoI6WwYAmkNVNVtwAOznkM6G4ZAkjpnCCSpc4ZAkjpnCCSpc4ZAWgNJPgr8PfC8JItJ3jLrmaRp+RITktQ5zwgkqXOGQJI6ZwgkqXOGQJI6ZwgkqXOGQBqT5KIkb12H7/OaJLtbfx/psRgCaaWLgKlDkGVn82/pNYAh0Mx5HYE0JslhYB9wN/DXwKXAFuBJwO9U1SeS7AQ+PTz+Eyz/Ur8aeBNwErgfOF5V70ryHOBGYA74NvDrwNOBTwEPDj9eV1X/sk4/ovR/bJ71ANIT0PXAj1XV5Uk2AxdW1UNJtgK3JzkyXPc84JqqemuSAfA64Pks/7v6HHB8uO4gcG1V/XOSFwEfqKqXD2/nU1X1sfX84aRxhkA6swB/lOSnge8C24BnDI99rapuH37+k8Anquq/AJJ8cvjnk4GXAH+W5NHb/IF1ml2aiiGQzuxNLN+l88Kq+p8kXwUuGB57eGRdxr9w6DzgP6rq8mYTSv9PPlgsrfQt4CnDz58G3DeMwMuAZ6/yNX8LvDrJBcOzgFcBVNVDwFeS/BJ874HlyyZ8H2lmDIE0pqq+Afzd8I3oLwcGSeZZPjv4p1W+5hhwBPgCcAswz/KDwAy/7i1JvgCcYPmBaIDDwG8n+cfhA8rSTPisIWmNJHlyVf1nkguB24D9VfW5Wc8lPRYfI5DWzsHhBWIXAB8xAtooPCOQpM75GIEkdc4QSFLnDIEkdc4QSFLnDIEkde5/AV5oXUbWgksDAAAAAElFTkSuQmCC\n",
      "text/plain": [
       "<Figure size 432x288 with 1 Axes>"
      ]
     },
     "metadata": {
      "needs_background": "light"
     },
     "output_type": "display_data"
    }
   ],
   "source": [
    "#outlier detection\n",
    "for col_name in col:\n",
    "    if (df[col_name].dtypes !=\"object\"):\n",
    "        plt.boxplot(df[col_name])\n",
    "        plt.xlabel(col_name)\n",
    "        plt.ylabel(\"count\")\n",
    "        plt.show()"
   ]
  },
  {
   "cell_type": "code",
   "execution_count": 12,
   "id": "83a62cbe",
   "metadata": {},
   "outputs": [
    {
     "data": {
      "text/html": [
       "<div>\n",
       "<style scoped>\n",
       "    .dataframe tbody tr th:only-of-type {\n",
       "        vertical-align: middle;\n",
       "    }\n",
       "\n",
       "    .dataframe tbody tr th {\n",
       "        vertical-align: top;\n",
       "    }\n",
       "\n",
       "    .dataframe thead th {\n",
       "        text-align: right;\n",
       "    }\n",
       "</style>\n",
       "<table border=\"1\" class=\"dataframe\">\n",
       "  <thead>\n",
       "    <tr style=\"text-align: right;\">\n",
       "      <th></th>\n",
       "      <th>age</th>\n",
       "      <th>sex</th>\n",
       "      <th>cp</th>\n",
       "      <th>trestbps</th>\n",
       "      <th>chol</th>\n",
       "      <th>fbs</th>\n",
       "      <th>restecg</th>\n",
       "      <th>thalach</th>\n",
       "      <th>exang</th>\n",
       "      <th>oldpeak</th>\n",
       "      <th>slope</th>\n",
       "      <th>ca</th>\n",
       "      <th>thal</th>\n",
       "      <th>target</th>\n",
       "    </tr>\n",
       "  </thead>\n",
       "  <tbody>\n",
       "    <tr>\n",
       "      <th>0</th>\n",
       "      <td>63</td>\n",
       "      <td>1</td>\n",
       "      <td>3</td>\n",
       "      <td>145</td>\n",
       "      <td>233</td>\n",
       "      <td>1</td>\n",
       "      <td>0</td>\n",
       "      <td>150</td>\n",
       "      <td>0</td>\n",
       "      <td>2.3</td>\n",
       "      <td>0</td>\n",
       "      <td>0</td>\n",
       "      <td>1</td>\n",
       "      <td>1</td>\n",
       "    </tr>\n",
       "    <tr>\n",
       "      <th>1</th>\n",
       "      <td>37</td>\n",
       "      <td>1</td>\n",
       "      <td>2</td>\n",
       "      <td>130</td>\n",
       "      <td>250</td>\n",
       "      <td>0</td>\n",
       "      <td>1</td>\n",
       "      <td>187</td>\n",
       "      <td>0</td>\n",
       "      <td>3.5</td>\n",
       "      <td>0</td>\n",
       "      <td>0</td>\n",
       "      <td>2</td>\n",
       "      <td>1</td>\n",
       "    </tr>\n",
       "    <tr>\n",
       "      <th>2</th>\n",
       "      <td>41</td>\n",
       "      <td>0</td>\n",
       "      <td>1</td>\n",
       "      <td>130</td>\n",
       "      <td>204</td>\n",
       "      <td>0</td>\n",
       "      <td>0</td>\n",
       "      <td>172</td>\n",
       "      <td>0</td>\n",
       "      <td>1.4</td>\n",
       "      <td>2</td>\n",
       "      <td>0</td>\n",
       "      <td>2</td>\n",
       "      <td>1</td>\n",
       "    </tr>\n",
       "    <tr>\n",
       "      <th>3</th>\n",
       "      <td>56</td>\n",
       "      <td>1</td>\n",
       "      <td>1</td>\n",
       "      <td>120</td>\n",
       "      <td>236</td>\n",
       "      <td>0</td>\n",
       "      <td>1</td>\n",
       "      <td>178</td>\n",
       "      <td>0</td>\n",
       "      <td>0.8</td>\n",
       "      <td>2</td>\n",
       "      <td>0</td>\n",
       "      <td>2</td>\n",
       "      <td>1</td>\n",
       "    </tr>\n",
       "    <tr>\n",
       "      <th>4</th>\n",
       "      <td>57</td>\n",
       "      <td>0</td>\n",
       "      <td>0</td>\n",
       "      <td>120</td>\n",
       "      <td>354</td>\n",
       "      <td>0</td>\n",
       "      <td>1</td>\n",
       "      <td>163</td>\n",
       "      <td>1</td>\n",
       "      <td>0.6</td>\n",
       "      <td>2</td>\n",
       "      <td>0</td>\n",
       "      <td>2</td>\n",
       "      <td>1</td>\n",
       "    </tr>\n",
       "    <tr>\n",
       "      <th>...</th>\n",
       "      <td>...</td>\n",
       "      <td>...</td>\n",
       "      <td>...</td>\n",
       "      <td>...</td>\n",
       "      <td>...</td>\n",
       "      <td>...</td>\n",
       "      <td>...</td>\n",
       "      <td>...</td>\n",
       "      <td>...</td>\n",
       "      <td>...</td>\n",
       "      <td>...</td>\n",
       "      <td>...</td>\n",
       "      <td>...</td>\n",
       "      <td>...</td>\n",
       "    </tr>\n",
       "    <tr>\n",
       "      <th>298</th>\n",
       "      <td>57</td>\n",
       "      <td>0</td>\n",
       "      <td>0</td>\n",
       "      <td>140</td>\n",
       "      <td>241</td>\n",
       "      <td>0</td>\n",
       "      <td>1</td>\n",
       "      <td>123</td>\n",
       "      <td>1</td>\n",
       "      <td>0.2</td>\n",
       "      <td>1</td>\n",
       "      <td>0</td>\n",
       "      <td>3</td>\n",
       "      <td>0</td>\n",
       "    </tr>\n",
       "    <tr>\n",
       "      <th>299</th>\n",
       "      <td>45</td>\n",
       "      <td>1</td>\n",
       "      <td>3</td>\n",
       "      <td>110</td>\n",
       "      <td>264</td>\n",
       "      <td>0</td>\n",
       "      <td>1</td>\n",
       "      <td>132</td>\n",
       "      <td>0</td>\n",
       "      <td>1.2</td>\n",
       "      <td>1</td>\n",
       "      <td>0</td>\n",
       "      <td>3</td>\n",
       "      <td>0</td>\n",
       "    </tr>\n",
       "    <tr>\n",
       "      <th>300</th>\n",
       "      <td>68</td>\n",
       "      <td>1</td>\n",
       "      <td>0</td>\n",
       "      <td>144</td>\n",
       "      <td>193</td>\n",
       "      <td>1</td>\n",
       "      <td>1</td>\n",
       "      <td>141</td>\n",
       "      <td>0</td>\n",
       "      <td>3.4</td>\n",
       "      <td>1</td>\n",
       "      <td>2</td>\n",
       "      <td>3</td>\n",
       "      <td>0</td>\n",
       "    </tr>\n",
       "    <tr>\n",
       "      <th>301</th>\n",
       "      <td>57</td>\n",
       "      <td>1</td>\n",
       "      <td>0</td>\n",
       "      <td>130</td>\n",
       "      <td>131</td>\n",
       "      <td>0</td>\n",
       "      <td>1</td>\n",
       "      <td>115</td>\n",
       "      <td>1</td>\n",
       "      <td>1.2</td>\n",
       "      <td>1</td>\n",
       "      <td>1</td>\n",
       "      <td>3</td>\n",
       "      <td>0</td>\n",
       "    </tr>\n",
       "    <tr>\n",
       "      <th>302</th>\n",
       "      <td>57</td>\n",
       "      <td>0</td>\n",
       "      <td>1</td>\n",
       "      <td>130</td>\n",
       "      <td>236</td>\n",
       "      <td>0</td>\n",
       "      <td>0</td>\n",
       "      <td>174</td>\n",
       "      <td>0</td>\n",
       "      <td>0.0</td>\n",
       "      <td>1</td>\n",
       "      <td>1</td>\n",
       "      <td>2</td>\n",
       "      <td>0</td>\n",
       "    </tr>\n",
       "  </tbody>\n",
       "</table>\n",
       "<p>302 rows × 14 columns</p>\n",
       "</div>"
      ],
      "text/plain": [
       "     age  sex  cp  trestbps  chol  fbs  restecg  thalach  exang  oldpeak  \\\n",
       "0     63    1   3       145   233    1        0      150      0      2.3   \n",
       "1     37    1   2       130   250    0        1      187      0      3.5   \n",
       "2     41    0   1       130   204    0        0      172      0      1.4   \n",
       "3     56    1   1       120   236    0        1      178      0      0.8   \n",
       "4     57    0   0       120   354    0        1      163      1      0.6   \n",
       "..   ...  ...  ..       ...   ...  ...      ...      ...    ...      ...   \n",
       "298   57    0   0       140   241    0        1      123      1      0.2   \n",
       "299   45    1   3       110   264    0        1      132      0      1.2   \n",
       "300   68    1   0       144   193    1        1      141      0      3.4   \n",
       "301   57    1   0       130   131    0        1      115      1      1.2   \n",
       "302   57    0   1       130   236    0        0      174      0      0.0   \n",
       "\n",
       "     slope  ca  thal  target  \n",
       "0        0   0     1       1  \n",
       "1        0   0     2       1  \n",
       "2        2   0     2       1  \n",
       "3        2   0     2       1  \n",
       "4        2   0     2       1  \n",
       "..     ...  ..   ...     ...  \n",
       "298      1   0     3       0  \n",
       "299      1   0     3       0  \n",
       "300      1   2     3       0  \n",
       "301      1   1     3       0  \n",
       "302      1   1     2       0  \n",
       "\n",
       "[302 rows x 14 columns]"
      ]
     },
     "execution_count": 12,
     "metadata": {},
     "output_type": "execute_result"
    }
   ],
   "source": [
    "df"
   ]
  },
  {
   "cell_type": "code",
   "execution_count": 13,
   "id": "d9f667b3",
   "metadata": {},
   "outputs": [],
   "source": [
    "out_col=[\"trestbps\",\"chol\",\"thalach\",\"oldpeak\"]"
   ]
  },
  {
   "cell_type": "code",
   "execution_count": 14,
   "id": "692bdfc7",
   "metadata": {},
   "outputs": [],
   "source": [
    "for col in out_col:\n",
    "    Q1=df[col].quantile(0.25)\n",
    "    Q3=df[col].quantile(0.75)\n",
    "    IQR=Q3-Q1\n",
    "    lower=Q1-1.5*IQR\n",
    "    upper=Q3+1.5*IQR\n",
    "    df=df[(df[col]<=upper)& (df[col]>=lower)]"
   ]
  },
  {
   "cell_type": "code",
   "execution_count": 15,
   "id": "a2c8c7eb",
   "metadata": {},
   "outputs": [
    {
     "data": {
      "image/png": "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\n",
      "text/plain": [
       "<Figure size 432x288 with 1 Axes>"
      ]
     },
     "metadata": {
      "needs_background": "light"
     },
     "output_type": "display_data"
    },
    {
     "data": {
      "image/png": "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\n",
      "text/plain": [
       "<Figure size 432x288 with 1 Axes>"
      ]
     },
     "metadata": {
      "needs_background": "light"
     },
     "output_type": "display_data"
    },
    {
     "data": {
      "image/png": "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\n",
      "text/plain": [
       "<Figure size 432x288 with 1 Axes>"
      ]
     },
     "metadata": {
      "needs_background": "light"
     },
     "output_type": "display_data"
    },
    {
     "data": {
      "image/png": "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\n",
      "text/plain": [
       "<Figure size 432x288 with 1 Axes>"
      ]
     },
     "metadata": {
      "needs_background": "light"
     },
     "output_type": "display_data"
    }
   ],
   "source": [
    "for col_name in out_col:\n",
    "    if (df[col_name].dtypes !=\"object\"):\n",
    "        plt.boxplot(df[col_name])\n",
    "        plt.xlabel(col_name)\n",
    "        plt.ylabel(\"count\")\n",
    "        plt.show()"
   ]
  },
  {
   "cell_type": "code",
   "execution_count": 16,
   "id": "ccefe6c1",
   "metadata": {},
   "outputs": [],
   "source": [
    "#visualization"
   ]
  },
  {
   "cell_type": "code",
   "execution_count": 17,
   "id": "3d8799c0",
   "metadata": {},
   "outputs": [
    {
     "data": {
      "text/plain": [
       "(array([ 1., 10., 33., 38., 35., 55., 58., 37., 13.,  3.]),\n",
       " array([29. , 33.8, 38.6, 43.4, 48.2, 53. , 57.8, 62.6, 67.4, 72.2, 77. ]),\n",
       " <BarContainer object of 10 artists>)"
      ]
     },
     "execution_count": 17,
     "metadata": {},
     "output_type": "execute_result"
    },
    {
     "data": {
      "image/png": "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\n",
      "text/plain": [
       "<Figure size 432x288 with 1 Axes>"
      ]
     },
     "metadata": {
      "needs_background": "light"
     },
     "output_type": "display_data"
    }
   ],
   "source": [
    "plt.hist(df[\"age\"],edgecolor=\"white\")"
   ]
  },
  {
   "cell_type": "code",
   "execution_count": 18,
   "id": "7b2315e7",
   "metadata": {},
   "outputs": [
    {
     "ename": "SyntaxError",
     "evalue": "invalid syntax (4152259451.py, line 1)",
     "output_type": "error",
     "traceback": [
      "\u001b[1;36m  Input \u001b[1;32mIn [18]\u001b[1;36m\u001b[0m\n\u001b[1;33m    major patients are having age of 53 to 63 year\u001b[0m\n\u001b[1;37m          ^\u001b[0m\n\u001b[1;31mSyntaxError\u001b[0m\u001b[1;31m:\u001b[0m invalid syntax\n"
     ]
    }
   ],
   "source": [
    "major patients are having age of 53 to 63 year "
   ]
  },
  {
   "cell_type": "code",
   "execution_count": 19,
   "id": "a263e715",
   "metadata": {},
   "outputs": [
    {
     "data": {
      "text/plain": [
       "<AxesSubplot:xlabel='target', ylabel='count'>"
      ]
     },
     "execution_count": 19,
     "metadata": {},
     "output_type": "execute_result"
    },
    {
     "data": {
      "image/png": "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\n",
      "text/plain": [
       "<Figure size 432x288 with 1 Axes>"
      ]
     },
     "metadata": {
      "needs_background": "light"
     },
     "output_type": "display_data"
    }
   ],
   "source": [
    "sns.countplot(data=df,x=\"target\",hue=\"sex\")"
   ]
  },
  {
   "cell_type": "code",
   "execution_count": 20,
   "id": "c9867787",
   "metadata": {},
   "outputs": [
    {
     "ename": "SyntaxError",
     "evalue": "invalid syntax (2355381543.py, line 1)",
     "output_type": "error",
     "traceback": [
      "\u001b[1;36m  Input \u001b[1;32mIn [20]\u001b[1;36m\u001b[0m\n\u001b[1;33m    majority of males are having heart disease\u001b[0m\n\u001b[1;37m             ^\u001b[0m\n\u001b[1;31mSyntaxError\u001b[0m\u001b[1;31m:\u001b[0m invalid syntax\n"
     ]
    }
   ],
   "source": [
    "majority of males are having heart disease"
   ]
  },
  {
   "cell_type": "code",
   "execution_count": 21,
   "id": "f4f078cd",
   "metadata": {},
   "outputs": [
    {
     "data": {
      "text/html": [
       "<div>\n",
       "<style scoped>\n",
       "    .dataframe tbody tr th:only-of-type {\n",
       "        vertical-align: middle;\n",
       "    }\n",
       "\n",
       "    .dataframe tbody tr th {\n",
       "        vertical-align: top;\n",
       "    }\n",
       "\n",
       "    .dataframe thead th {\n",
       "        text-align: right;\n",
       "    }\n",
       "</style>\n",
       "<table border=\"1\" class=\"dataframe\">\n",
       "  <thead>\n",
       "    <tr style=\"text-align: right;\">\n",
       "      <th></th>\n",
       "      <th>age</th>\n",
       "      <th>sex</th>\n",
       "      <th>cp</th>\n",
       "      <th>trestbps</th>\n",
       "      <th>chol</th>\n",
       "      <th>fbs</th>\n",
       "      <th>restecg</th>\n",
       "      <th>thalach</th>\n",
       "      <th>exang</th>\n",
       "      <th>oldpeak</th>\n",
       "      <th>slope</th>\n",
       "      <th>ca</th>\n",
       "      <th>thal</th>\n",
       "      <th>target</th>\n",
       "    </tr>\n",
       "  </thead>\n",
       "  <tbody>\n",
       "    <tr>\n",
       "      <th>age</th>\n",
       "      <td>1.000000</td>\n",
       "      <td>-0.064118</td>\n",
       "      <td>-0.058687</td>\n",
       "      <td>0.282669</td>\n",
       "      <td>0.171015</td>\n",
       "      <td>0.106885</td>\n",
       "      <td>-0.110517</td>\n",
       "      <td>-0.411108</td>\n",
       "      <td>0.093718</td>\n",
       "      <td>0.209254</td>\n",
       "      <td>-0.149095</td>\n",
       "      <td>0.320589</td>\n",
       "      <td>0.055908</td>\n",
       "      <td>-0.222416</td>\n",
       "    </tr>\n",
       "    <tr>\n",
       "      <th>sex</th>\n",
       "      <td>-0.064118</td>\n",
       "      <td>1.000000</td>\n",
       "      <td>-0.091357</td>\n",
       "      <td>0.007572</td>\n",
       "      <td>-0.123863</td>\n",
       "      <td>0.066692</td>\n",
       "      <td>-0.083290</td>\n",
       "      <td>-0.042981</td>\n",
       "      <td>0.182596</td>\n",
       "      <td>0.157352</td>\n",
       "      <td>-0.060014</td>\n",
       "      <td>0.150209</td>\n",
       "      <td>0.243271</td>\n",
       "      <td>-0.318896</td>\n",
       "    </tr>\n",
       "    <tr>\n",
       "      <th>cp</th>\n",
       "      <td>-0.058687</td>\n",
       "      <td>-0.091357</td>\n",
       "      <td>1.000000</td>\n",
       "      <td>0.083242</td>\n",
       "      <td>-0.080369</td>\n",
       "      <td>0.084389</td>\n",
       "      <td>0.080836</td>\n",
       "      <td>0.285605</td>\n",
       "      <td>-0.388610</td>\n",
       "      <td>-0.122582</td>\n",
       "      <td>0.095881</td>\n",
       "      <td>-0.171717</td>\n",
       "      <td>-0.179204</td>\n",
       "      <td>0.416319</td>\n",
       "    </tr>\n",
       "    <tr>\n",
       "      <th>trestbps</th>\n",
       "      <td>0.282669</td>\n",
       "      <td>0.007572</td>\n",
       "      <td>0.083242</td>\n",
       "      <td>1.000000</td>\n",
       "      <td>0.115138</td>\n",
       "      <td>0.127221</td>\n",
       "      <td>-0.139228</td>\n",
       "      <td>-0.071600</td>\n",
       "      <td>0.001726</td>\n",
       "      <td>0.144438</td>\n",
       "      <td>-0.083024</td>\n",
       "      <td>0.105458</td>\n",
       "      <td>-0.011026</td>\n",
       "      <td>-0.115614</td>\n",
       "    </tr>\n",
       "    <tr>\n",
       "      <th>chol</th>\n",
       "      <td>0.171015</td>\n",
       "      <td>-0.123863</td>\n",
       "      <td>-0.080369</td>\n",
       "      <td>0.115138</td>\n",
       "      <td>1.000000</td>\n",
       "      <td>0.013066</td>\n",
       "      <td>-0.142285</td>\n",
       "      <td>-0.020128</td>\n",
       "      <td>0.076547</td>\n",
       "      <td>-0.009534</td>\n",
       "      <td>0.039352</td>\n",
       "      <td>0.081070</td>\n",
       "      <td>0.091667</td>\n",
       "      <td>-0.105627</td>\n",
       "    </tr>\n",
       "    <tr>\n",
       "      <th>fbs</th>\n",
       "      <td>0.106885</td>\n",
       "      <td>0.066692</td>\n",
       "      <td>0.084389</td>\n",
       "      <td>0.127221</td>\n",
       "      <td>0.013066</td>\n",
       "      <td>1.000000</td>\n",
       "      <td>-0.077417</td>\n",
       "      <td>-0.023484</td>\n",
       "      <td>0.006080</td>\n",
       "      <td>0.015070</td>\n",
       "      <td>-0.069563</td>\n",
       "      <td>0.156265</td>\n",
       "      <td>-0.064469</td>\n",
       "      <td>-0.027210</td>\n",
       "    </tr>\n",
       "    <tr>\n",
       "      <th>restecg</th>\n",
       "      <td>-0.110517</td>\n",
       "      <td>-0.083290</td>\n",
       "      <td>0.080836</td>\n",
       "      <td>-0.139228</td>\n",
       "      <td>-0.142285</td>\n",
       "      <td>-0.077417</td>\n",
       "      <td>1.000000</td>\n",
       "      <td>0.089556</td>\n",
       "      <td>-0.104440</td>\n",
       "      <td>-0.089255</td>\n",
       "      <td>0.111841</td>\n",
       "      <td>-0.091123</td>\n",
       "      <td>0.034684</td>\n",
       "      <td>0.171453</td>\n",
       "    </tr>\n",
       "    <tr>\n",
       "      <th>thalach</th>\n",
       "      <td>-0.411108</td>\n",
       "      <td>-0.042981</td>\n",
       "      <td>0.285605</td>\n",
       "      <td>-0.071600</td>\n",
       "      <td>-0.020128</td>\n",
       "      <td>-0.023484</td>\n",
       "      <td>0.089556</td>\n",
       "      <td>1.000000</td>\n",
       "      <td>-0.387726</td>\n",
       "      <td>-0.341190</td>\n",
       "      <td>0.376494</td>\n",
       "      <td>-0.253937</td>\n",
       "      <td>-0.112838</td>\n",
       "      <td>0.422559</td>\n",
       "    </tr>\n",
       "    <tr>\n",
       "      <th>exang</th>\n",
       "      <td>0.093718</td>\n",
       "      <td>0.182596</td>\n",
       "      <td>-0.388610</td>\n",
       "      <td>0.001726</td>\n",
       "      <td>0.076547</td>\n",
       "      <td>0.006080</td>\n",
       "      <td>-0.104440</td>\n",
       "      <td>-0.387726</td>\n",
       "      <td>1.000000</td>\n",
       "      <td>0.318620</td>\n",
       "      <td>-0.259780</td>\n",
       "      <td>0.133820</td>\n",
       "      <td>0.202806</td>\n",
       "      <td>-0.431599</td>\n",
       "    </tr>\n",
       "    <tr>\n",
       "      <th>oldpeak</th>\n",
       "      <td>0.209254</td>\n",
       "      <td>0.157352</td>\n",
       "      <td>-0.122582</td>\n",
       "      <td>0.144438</td>\n",
       "      <td>-0.009534</td>\n",
       "      <td>0.015070</td>\n",
       "      <td>-0.089255</td>\n",
       "      <td>-0.341190</td>\n",
       "      <td>0.318620</td>\n",
       "      <td>1.000000</td>\n",
       "      <td>-0.525142</td>\n",
       "      <td>0.179032</td>\n",
       "      <td>0.189822</td>\n",
       "      <td>-0.434108</td>\n",
       "    </tr>\n",
       "    <tr>\n",
       "      <th>slope</th>\n",
       "      <td>-0.149095</td>\n",
       "      <td>-0.060014</td>\n",
       "      <td>0.095881</td>\n",
       "      <td>-0.083024</td>\n",
       "      <td>0.039352</td>\n",
       "      <td>-0.069563</td>\n",
       "      <td>0.111841</td>\n",
       "      <td>0.376494</td>\n",
       "      <td>-0.259780</td>\n",
       "      <td>-0.525142</td>\n",
       "      <td>1.000000</td>\n",
       "      <td>-0.055423</td>\n",
       "      <td>-0.086431</td>\n",
       "      <td>0.326473</td>\n",
       "    </tr>\n",
       "    <tr>\n",
       "      <th>ca</th>\n",
       "      <td>0.320589</td>\n",
       "      <td>0.150209</td>\n",
       "      <td>-0.171717</td>\n",
       "      <td>0.105458</td>\n",
       "      <td>0.081070</td>\n",
       "      <td>0.156265</td>\n",
       "      <td>-0.091123</td>\n",
       "      <td>-0.253937</td>\n",
       "      <td>0.133820</td>\n",
       "      <td>0.179032</td>\n",
       "      <td>-0.055423</td>\n",
       "      <td>1.000000</td>\n",
       "      <td>0.156379</td>\n",
       "      <td>-0.397733</td>\n",
       "    </tr>\n",
       "    <tr>\n",
       "      <th>thal</th>\n",
       "      <td>0.055908</td>\n",
       "      <td>0.243271</td>\n",
       "      <td>-0.179204</td>\n",
       "      <td>-0.011026</td>\n",
       "      <td>0.091667</td>\n",
       "      <td>-0.064469</td>\n",
       "      <td>0.034684</td>\n",
       "      <td>-0.112838</td>\n",
       "      <td>0.202806</td>\n",
       "      <td>0.189822</td>\n",
       "      <td>-0.086431</td>\n",
       "      <td>0.156379</td>\n",
       "      <td>1.000000</td>\n",
       "      <td>-0.349150</td>\n",
       "    </tr>\n",
       "    <tr>\n",
       "      <th>target</th>\n",
       "      <td>-0.222416</td>\n",
       "      <td>-0.318896</td>\n",
       "      <td>0.416319</td>\n",
       "      <td>-0.115614</td>\n",
       "      <td>-0.105627</td>\n",
       "      <td>-0.027210</td>\n",
       "      <td>0.171453</td>\n",
       "      <td>0.422559</td>\n",
       "      <td>-0.431599</td>\n",
       "      <td>-0.434108</td>\n",
       "      <td>0.326473</td>\n",
       "      <td>-0.397733</td>\n",
       "      <td>-0.349150</td>\n",
       "      <td>1.000000</td>\n",
       "    </tr>\n",
       "  </tbody>\n",
       "</table>\n",
       "</div>"
      ],
      "text/plain": [
       "               age       sex        cp  trestbps      chol       fbs  \\\n",
       "age       1.000000 -0.064118 -0.058687  0.282669  0.171015  0.106885   \n",
       "sex      -0.064118  1.000000 -0.091357  0.007572 -0.123863  0.066692   \n",
       "cp       -0.058687 -0.091357  1.000000  0.083242 -0.080369  0.084389   \n",
       "trestbps  0.282669  0.007572  0.083242  1.000000  0.115138  0.127221   \n",
       "chol      0.171015 -0.123863 -0.080369  0.115138  1.000000  0.013066   \n",
       "fbs       0.106885  0.066692  0.084389  0.127221  0.013066  1.000000   \n",
       "restecg  -0.110517 -0.083290  0.080836 -0.139228 -0.142285 -0.077417   \n",
       "thalach  -0.411108 -0.042981  0.285605 -0.071600 -0.020128 -0.023484   \n",
       "exang     0.093718  0.182596 -0.388610  0.001726  0.076547  0.006080   \n",
       "oldpeak   0.209254  0.157352 -0.122582  0.144438 -0.009534  0.015070   \n",
       "slope    -0.149095 -0.060014  0.095881 -0.083024  0.039352 -0.069563   \n",
       "ca        0.320589  0.150209 -0.171717  0.105458  0.081070  0.156265   \n",
       "thal      0.055908  0.243271 -0.179204 -0.011026  0.091667 -0.064469   \n",
       "target   -0.222416 -0.318896  0.416319 -0.115614 -0.105627 -0.027210   \n",
       "\n",
       "           restecg   thalach     exang   oldpeak     slope        ca  \\\n",
       "age      -0.110517 -0.411108  0.093718  0.209254 -0.149095  0.320589   \n",
       "sex      -0.083290 -0.042981  0.182596  0.157352 -0.060014  0.150209   \n",
       "cp        0.080836  0.285605 -0.388610 -0.122582  0.095881 -0.171717   \n",
       "trestbps -0.139228 -0.071600  0.001726  0.144438 -0.083024  0.105458   \n",
       "chol     -0.142285 -0.020128  0.076547 -0.009534  0.039352  0.081070   \n",
       "fbs      -0.077417 -0.023484  0.006080  0.015070 -0.069563  0.156265   \n",
       "restecg   1.000000  0.089556 -0.104440 -0.089255  0.111841 -0.091123   \n",
       "thalach   0.089556  1.000000 -0.387726 -0.341190  0.376494 -0.253937   \n",
       "exang    -0.104440 -0.387726  1.000000  0.318620 -0.259780  0.133820   \n",
       "oldpeak  -0.089255 -0.341190  0.318620  1.000000 -0.525142  0.179032   \n",
       "slope     0.111841  0.376494 -0.259780 -0.525142  1.000000 -0.055423   \n",
       "ca       -0.091123 -0.253937  0.133820  0.179032 -0.055423  1.000000   \n",
       "thal      0.034684 -0.112838  0.202806  0.189822 -0.086431  0.156379   \n",
       "target    0.171453  0.422559 -0.431599 -0.434108  0.326473 -0.397733   \n",
       "\n",
       "              thal    target  \n",
       "age       0.055908 -0.222416  \n",
       "sex       0.243271 -0.318896  \n",
       "cp       -0.179204  0.416319  \n",
       "trestbps -0.011026 -0.115614  \n",
       "chol      0.091667 -0.105627  \n",
       "fbs      -0.064469 -0.027210  \n",
       "restecg   0.034684  0.171453  \n",
       "thalach  -0.112838  0.422559  \n",
       "exang     0.202806 -0.431599  \n",
       "oldpeak   0.189822 -0.434108  \n",
       "slope    -0.086431  0.326473  \n",
       "ca        0.156379 -0.397733  \n",
       "thal      1.000000 -0.349150  \n",
       "target   -0.349150  1.000000  "
      ]
     },
     "execution_count": 21,
     "metadata": {},
     "output_type": "execute_result"
    }
   ],
   "source": [
    "df.corr()"
   ]
  },
  {
   "cell_type": "code",
   "execution_count": null,
   "id": "dcf01c74",
   "metadata": {},
   "outputs": [],
   "source": []
  },
  {
   "cell_type": "code",
   "execution_count": 22,
   "id": "26e23577",
   "metadata": {},
   "outputs": [],
   "source": [
    "#rest of the visualization as homework\n"
   ]
  },
  {
   "cell_type": "markdown",
   "id": "2d6798f6",
   "metadata": {},
   "source": [
    "# Model building"
   ]
  },
  {
   "cell_type": "code",
   "execution_count": 23,
   "id": "e8959980",
   "metadata": {},
   "outputs": [],
   "source": [
    "# spliting the data into dependent ansd independent\n",
    "x=df.iloc[:,:-1]\n",
    "y=df[\"target\"]"
   ]
  },
  {
   "cell_type": "code",
   "execution_count": 24,
   "id": "98e28d9f",
   "metadata": {},
   "outputs": [
    {
     "data": {
      "text/html": [
       "<div>\n",
       "<style scoped>\n",
       "    .dataframe tbody tr th:only-of-type {\n",
       "        vertical-align: middle;\n",
       "    }\n",
       "\n",
       "    .dataframe tbody tr th {\n",
       "        vertical-align: top;\n",
       "    }\n",
       "\n",
       "    .dataframe thead th {\n",
       "        text-align: right;\n",
       "    }\n",
       "</style>\n",
       "<table border=\"1\" class=\"dataframe\">\n",
       "  <thead>\n",
       "    <tr style=\"text-align: right;\">\n",
       "      <th></th>\n",
       "      <th>age</th>\n",
       "      <th>sex</th>\n",
       "      <th>cp</th>\n",
       "      <th>trestbps</th>\n",
       "      <th>chol</th>\n",
       "      <th>fbs</th>\n",
       "      <th>restecg</th>\n",
       "      <th>thalach</th>\n",
       "      <th>exang</th>\n",
       "      <th>oldpeak</th>\n",
       "      <th>slope</th>\n",
       "      <th>ca</th>\n",
       "      <th>thal</th>\n",
       "    </tr>\n",
       "  </thead>\n",
       "  <tbody>\n",
       "    <tr>\n",
       "      <th>0</th>\n",
       "      <td>63</td>\n",
       "      <td>1</td>\n",
       "      <td>3</td>\n",
       "      <td>145</td>\n",
       "      <td>233</td>\n",
       "      <td>1</td>\n",
       "      <td>0</td>\n",
       "      <td>150</td>\n",
       "      <td>0</td>\n",
       "      <td>2.3</td>\n",
       "      <td>0</td>\n",
       "      <td>0</td>\n",
       "      <td>1</td>\n",
       "    </tr>\n",
       "    <tr>\n",
       "      <th>1</th>\n",
       "      <td>37</td>\n",
       "      <td>1</td>\n",
       "      <td>2</td>\n",
       "      <td>130</td>\n",
       "      <td>250</td>\n",
       "      <td>0</td>\n",
       "      <td>1</td>\n",
       "      <td>187</td>\n",
       "      <td>0</td>\n",
       "      <td>3.5</td>\n",
       "      <td>0</td>\n",
       "      <td>0</td>\n",
       "      <td>2</td>\n",
       "    </tr>\n",
       "    <tr>\n",
       "      <th>2</th>\n",
       "      <td>41</td>\n",
       "      <td>0</td>\n",
       "      <td>1</td>\n",
       "      <td>130</td>\n",
       "      <td>204</td>\n",
       "      <td>0</td>\n",
       "      <td>0</td>\n",
       "      <td>172</td>\n",
       "      <td>0</td>\n",
       "      <td>1.4</td>\n",
       "      <td>2</td>\n",
       "      <td>0</td>\n",
       "      <td>2</td>\n",
       "    </tr>\n",
       "    <tr>\n",
       "      <th>3</th>\n",
       "      <td>56</td>\n",
       "      <td>1</td>\n",
       "      <td>1</td>\n",
       "      <td>120</td>\n",
       "      <td>236</td>\n",
       "      <td>0</td>\n",
       "      <td>1</td>\n",
       "      <td>178</td>\n",
       "      <td>0</td>\n",
       "      <td>0.8</td>\n",
       "      <td>2</td>\n",
       "      <td>0</td>\n",
       "      <td>2</td>\n",
       "    </tr>\n",
       "    <tr>\n",
       "      <th>4</th>\n",
       "      <td>57</td>\n",
       "      <td>0</td>\n",
       "      <td>0</td>\n",
       "      <td>120</td>\n",
       "      <td>354</td>\n",
       "      <td>0</td>\n",
       "      <td>1</td>\n",
       "      <td>163</td>\n",
       "      <td>1</td>\n",
       "      <td>0.6</td>\n",
       "      <td>2</td>\n",
       "      <td>0</td>\n",
       "      <td>2</td>\n",
       "    </tr>\n",
       "    <tr>\n",
       "      <th>...</th>\n",
       "      <td>...</td>\n",
       "      <td>...</td>\n",
       "      <td>...</td>\n",
       "      <td>...</td>\n",
       "      <td>...</td>\n",
       "      <td>...</td>\n",
       "      <td>...</td>\n",
       "      <td>...</td>\n",
       "      <td>...</td>\n",
       "      <td>...</td>\n",
       "      <td>...</td>\n",
       "      <td>...</td>\n",
       "      <td>...</td>\n",
       "    </tr>\n",
       "    <tr>\n",
       "      <th>298</th>\n",
       "      <td>57</td>\n",
       "      <td>0</td>\n",
       "      <td>0</td>\n",
       "      <td>140</td>\n",
       "      <td>241</td>\n",
       "      <td>0</td>\n",
       "      <td>1</td>\n",
       "      <td>123</td>\n",
       "      <td>1</td>\n",
       "      <td>0.2</td>\n",
       "      <td>1</td>\n",
       "      <td>0</td>\n",
       "      <td>3</td>\n",
       "    </tr>\n",
       "    <tr>\n",
       "      <th>299</th>\n",
       "      <td>45</td>\n",
       "      <td>1</td>\n",
       "      <td>3</td>\n",
       "      <td>110</td>\n",
       "      <td>264</td>\n",
       "      <td>0</td>\n",
       "      <td>1</td>\n",
       "      <td>132</td>\n",
       "      <td>0</td>\n",
       "      <td>1.2</td>\n",
       "      <td>1</td>\n",
       "      <td>0</td>\n",
       "      <td>3</td>\n",
       "    </tr>\n",
       "    <tr>\n",
       "      <th>300</th>\n",
       "      <td>68</td>\n",
       "      <td>1</td>\n",
       "      <td>0</td>\n",
       "      <td>144</td>\n",
       "      <td>193</td>\n",
       "      <td>1</td>\n",
       "      <td>1</td>\n",
       "      <td>141</td>\n",
       "      <td>0</td>\n",
       "      <td>3.4</td>\n",
       "      <td>1</td>\n",
       "      <td>2</td>\n",
       "      <td>3</td>\n",
       "    </tr>\n",
       "    <tr>\n",
       "      <th>301</th>\n",
       "      <td>57</td>\n",
       "      <td>1</td>\n",
       "      <td>0</td>\n",
       "      <td>130</td>\n",
       "      <td>131</td>\n",
       "      <td>0</td>\n",
       "      <td>1</td>\n",
       "      <td>115</td>\n",
       "      <td>1</td>\n",
       "      <td>1.2</td>\n",
       "      <td>1</td>\n",
       "      <td>1</td>\n",
       "      <td>3</td>\n",
       "    </tr>\n",
       "    <tr>\n",
       "      <th>302</th>\n",
       "      <td>57</td>\n",
       "      <td>0</td>\n",
       "      <td>1</td>\n",
       "      <td>130</td>\n",
       "      <td>236</td>\n",
       "      <td>0</td>\n",
       "      <td>0</td>\n",
       "      <td>174</td>\n",
       "      <td>0</td>\n",
       "      <td>0.0</td>\n",
       "      <td>1</td>\n",
       "      <td>1</td>\n",
       "      <td>2</td>\n",
       "    </tr>\n",
       "  </tbody>\n",
       "</table>\n",
       "<p>283 rows × 13 columns</p>\n",
       "</div>"
      ],
      "text/plain": [
       "     age  sex  cp  trestbps  chol  fbs  restecg  thalach  exang  oldpeak  \\\n",
       "0     63    1   3       145   233    1        0      150      0      2.3   \n",
       "1     37    1   2       130   250    0        1      187      0      3.5   \n",
       "2     41    0   1       130   204    0        0      172      0      1.4   \n",
       "3     56    1   1       120   236    0        1      178      0      0.8   \n",
       "4     57    0   0       120   354    0        1      163      1      0.6   \n",
       "..   ...  ...  ..       ...   ...  ...      ...      ...    ...      ...   \n",
       "298   57    0   0       140   241    0        1      123      1      0.2   \n",
       "299   45    1   3       110   264    0        1      132      0      1.2   \n",
       "300   68    1   0       144   193    1        1      141      0      3.4   \n",
       "301   57    1   0       130   131    0        1      115      1      1.2   \n",
       "302   57    0   1       130   236    0        0      174      0      0.0   \n",
       "\n",
       "     slope  ca  thal  \n",
       "0        0   0     1  \n",
       "1        0   0     2  \n",
       "2        2   0     2  \n",
       "3        2   0     2  \n",
       "4        2   0     2  \n",
       "..     ...  ..   ...  \n",
       "298      1   0     3  \n",
       "299      1   0     3  \n",
       "300      1   2     3  \n",
       "301      1   1     3  \n",
       "302      1   1     2  \n",
       "\n",
       "[283 rows x 13 columns]"
      ]
     },
     "execution_count": 24,
     "metadata": {},
     "output_type": "execute_result"
    }
   ],
   "source": [
    "x"
   ]
  },
  {
   "cell_type": "code",
   "execution_count": 25,
   "id": "227d8e47",
   "metadata": {},
   "outputs": [
    {
     "data": {
      "text/plain": [
       "0      1\n",
       "1      1\n",
       "2      1\n",
       "3      1\n",
       "4      1\n",
       "      ..\n",
       "298    0\n",
       "299    0\n",
       "300    0\n",
       "301    0\n",
       "302    0\n",
       "Name: target, Length: 283, dtype: int64"
      ]
     },
     "execution_count": 25,
     "metadata": {},
     "output_type": "execute_result"
    }
   ],
   "source": [
    "y"
   ]
  },
  {
   "cell_type": "code",
   "execution_count": 26,
   "id": "c20d6b23",
   "metadata": {},
   "outputs": [],
   "source": [
    "# spliting the data into training and testing\n",
    "from sklearn.model_selection import train_test_split"
   ]
  },
  {
   "cell_type": "code",
   "execution_count": 28,
   "id": "40d9d456",
   "metadata": {},
   "outputs": [],
   "source": [
    "x_train,x_test,y_train,y_test=train_test_split(x,y,test_size=0.3,random_state=40)"
   ]
  },
  {
   "cell_type": "code",
   "execution_count": 29,
   "id": "d7af3629",
   "metadata": {},
   "outputs": [
    {
     "data": {
      "text/html": [
       "<div>\n",
       "<style scoped>\n",
       "    .dataframe tbody tr th:only-of-type {\n",
       "        vertical-align: middle;\n",
       "    }\n",
       "\n",
       "    .dataframe tbody tr th {\n",
       "        vertical-align: top;\n",
       "    }\n",
       "\n",
       "    .dataframe thead th {\n",
       "        text-align: right;\n",
       "    }\n",
       "</style>\n",
       "<table border=\"1\" class=\"dataframe\">\n",
       "  <thead>\n",
       "    <tr style=\"text-align: right;\">\n",
       "      <th></th>\n",
       "      <th>age</th>\n",
       "      <th>sex</th>\n",
       "      <th>cp</th>\n",
       "      <th>trestbps</th>\n",
       "      <th>chol</th>\n",
       "      <th>fbs</th>\n",
       "      <th>restecg</th>\n",
       "      <th>thalach</th>\n",
       "      <th>exang</th>\n",
       "      <th>oldpeak</th>\n",
       "      <th>slope</th>\n",
       "      <th>ca</th>\n",
       "      <th>thal</th>\n",
       "    </tr>\n",
       "  </thead>\n",
       "  <tbody>\n",
       "    <tr>\n",
       "      <th>270</th>\n",
       "      <td>46</td>\n",
       "      <td>1</td>\n",
       "      <td>0</td>\n",
       "      <td>120</td>\n",
       "      <td>249</td>\n",
       "      <td>0</td>\n",
       "      <td>0</td>\n",
       "      <td>144</td>\n",
       "      <td>0</td>\n",
       "      <td>0.8</td>\n",
       "      <td>2</td>\n",
       "      <td>0</td>\n",
       "      <td>3</td>\n",
       "    </tr>\n",
       "    <tr>\n",
       "      <th>88</th>\n",
       "      <td>54</td>\n",
       "      <td>0</td>\n",
       "      <td>2</td>\n",
       "      <td>110</td>\n",
       "      <td>214</td>\n",
       "      <td>0</td>\n",
       "      <td>1</td>\n",
       "      <td>158</td>\n",
       "      <td>0</td>\n",
       "      <td>1.6</td>\n",
       "      <td>1</td>\n",
       "      <td>0</td>\n",
       "      <td>2</td>\n",
       "    </tr>\n",
       "    <tr>\n",
       "      <th>145</th>\n",
       "      <td>70</td>\n",
       "      <td>1</td>\n",
       "      <td>1</td>\n",
       "      <td>156</td>\n",
       "      <td>245</td>\n",
       "      <td>0</td>\n",
       "      <td>0</td>\n",
       "      <td>143</td>\n",
       "      <td>0</td>\n",
       "      <td>0.0</td>\n",
       "      <td>2</td>\n",
       "      <td>0</td>\n",
       "      <td>2</td>\n",
       "    </tr>\n",
       "    <tr>\n",
       "      <th>105</th>\n",
       "      <td>68</td>\n",
       "      <td>0</td>\n",
       "      <td>2</td>\n",
       "      <td>120</td>\n",
       "      <td>211</td>\n",
       "      <td>0</td>\n",
       "      <td>0</td>\n",
       "      <td>115</td>\n",
       "      <td>0</td>\n",
       "      <td>1.5</td>\n",
       "      <td>1</td>\n",
       "      <td>0</td>\n",
       "      <td>2</td>\n",
       "    </tr>\n",
       "    <tr>\n",
       "      <th>167</th>\n",
       "      <td>62</td>\n",
       "      <td>0</td>\n",
       "      <td>0</td>\n",
       "      <td>140</td>\n",
       "      <td>268</td>\n",
       "      <td>0</td>\n",
       "      <td>0</td>\n",
       "      <td>160</td>\n",
       "      <td>0</td>\n",
       "      <td>3.6</td>\n",
       "      <td>0</td>\n",
       "      <td>2</td>\n",
       "      <td>2</td>\n",
       "    </tr>\n",
       "    <tr>\n",
       "      <th>...</th>\n",
       "      <td>...</td>\n",
       "      <td>...</td>\n",
       "      <td>...</td>\n",
       "      <td>...</td>\n",
       "      <td>...</td>\n",
       "      <td>...</td>\n",
       "      <td>...</td>\n",
       "      <td>...</td>\n",
       "      <td>...</td>\n",
       "      <td>...</td>\n",
       "      <td>...</td>\n",
       "      <td>...</td>\n",
       "      <td>...</td>\n",
       "    </tr>\n",
       "    <tr>\n",
       "      <th>287</th>\n",
       "      <td>57</td>\n",
       "      <td>1</td>\n",
       "      <td>1</td>\n",
       "      <td>154</td>\n",
       "      <td>232</td>\n",
       "      <td>0</td>\n",
       "      <td>0</td>\n",
       "      <td>164</td>\n",
       "      <td>0</td>\n",
       "      <td>0.0</td>\n",
       "      <td>2</td>\n",
       "      <td>1</td>\n",
       "      <td>2</td>\n",
       "    </tr>\n",
       "    <tr>\n",
       "      <th>200</th>\n",
       "      <td>44</td>\n",
       "      <td>1</td>\n",
       "      <td>0</td>\n",
       "      <td>110</td>\n",
       "      <td>197</td>\n",
       "      <td>0</td>\n",
       "      <td>0</td>\n",
       "      <td>177</td>\n",
       "      <td>0</td>\n",
       "      <td>0.0</td>\n",
       "      <td>2</td>\n",
       "      <td>1</td>\n",
       "      <td>2</td>\n",
       "    </tr>\n",
       "    <tr>\n",
       "      <th>172</th>\n",
       "      <td>58</td>\n",
       "      <td>1</td>\n",
       "      <td>1</td>\n",
       "      <td>120</td>\n",
       "      <td>284</td>\n",
       "      <td>0</td>\n",
       "      <td>0</td>\n",
       "      <td>160</td>\n",
       "      <td>0</td>\n",
       "      <td>1.8</td>\n",
       "      <td>1</td>\n",
       "      <td>0</td>\n",
       "      <td>2</td>\n",
       "    </tr>\n",
       "    <tr>\n",
       "      <th>7</th>\n",
       "      <td>44</td>\n",
       "      <td>1</td>\n",
       "      <td>1</td>\n",
       "      <td>120</td>\n",
       "      <td>263</td>\n",
       "      <td>0</td>\n",
       "      <td>1</td>\n",
       "      <td>173</td>\n",
       "      <td>0</td>\n",
       "      <td>0.0</td>\n",
       "      <td>2</td>\n",
       "      <td>0</td>\n",
       "      <td>3</td>\n",
       "    </tr>\n",
       "    <tr>\n",
       "      <th>231</th>\n",
       "      <td>57</td>\n",
       "      <td>1</td>\n",
       "      <td>0</td>\n",
       "      <td>165</td>\n",
       "      <td>289</td>\n",
       "      <td>1</td>\n",
       "      <td>0</td>\n",
       "      <td>124</td>\n",
       "      <td>0</td>\n",
       "      <td>1.0</td>\n",
       "      <td>1</td>\n",
       "      <td>3</td>\n",
       "      <td>3</td>\n",
       "    </tr>\n",
       "  </tbody>\n",
       "</table>\n",
       "<p>198 rows × 13 columns</p>\n",
       "</div>"
      ],
      "text/plain": [
       "     age  sex  cp  trestbps  chol  fbs  restecg  thalach  exang  oldpeak  \\\n",
       "270   46    1   0       120   249    0        0      144      0      0.8   \n",
       "88    54    0   2       110   214    0        1      158      0      1.6   \n",
       "145   70    1   1       156   245    0        0      143      0      0.0   \n",
       "105   68    0   2       120   211    0        0      115      0      1.5   \n",
       "167   62    0   0       140   268    0        0      160      0      3.6   \n",
       "..   ...  ...  ..       ...   ...  ...      ...      ...    ...      ...   \n",
       "287   57    1   1       154   232    0        0      164      0      0.0   \n",
       "200   44    1   0       110   197    0        0      177      0      0.0   \n",
       "172   58    1   1       120   284    0        0      160      0      1.8   \n",
       "7     44    1   1       120   263    0        1      173      0      0.0   \n",
       "231   57    1   0       165   289    1        0      124      0      1.0   \n",
       "\n",
       "     slope  ca  thal  \n",
       "270      2   0     3  \n",
       "88       1   0     2  \n",
       "145      2   0     2  \n",
       "105      1   0     2  \n",
       "167      0   2     2  \n",
       "..     ...  ..   ...  \n",
       "287      2   1     2  \n",
       "200      2   1     2  \n",
       "172      1   0     2  \n",
       "7        2   0     3  \n",
       "231      1   3     3  \n",
       "\n",
       "[198 rows x 13 columns]"
      ]
     },
     "execution_count": 29,
     "metadata": {},
     "output_type": "execute_result"
    }
   ],
   "source": [
    "x_train"
   ]
  },
  {
   "cell_type": "code",
   "execution_count": 30,
   "id": "1218f967",
   "metadata": {},
   "outputs": [
    {
     "data": {
      "text/html": [
       "<div>\n",
       "<style scoped>\n",
       "    .dataframe tbody tr th:only-of-type {\n",
       "        vertical-align: middle;\n",
       "    }\n",
       "\n",
       "    .dataframe tbody tr th {\n",
       "        vertical-align: top;\n",
       "    }\n",
       "\n",
       "    .dataframe thead th {\n",
       "        text-align: right;\n",
       "    }\n",
       "</style>\n",
       "<table border=\"1\" class=\"dataframe\">\n",
       "  <thead>\n",
       "    <tr style=\"text-align: right;\">\n",
       "      <th></th>\n",
       "      <th>age</th>\n",
       "      <th>sex</th>\n",
       "      <th>cp</th>\n",
       "      <th>trestbps</th>\n",
       "      <th>chol</th>\n",
       "      <th>fbs</th>\n",
       "      <th>restecg</th>\n",
       "      <th>thalach</th>\n",
       "      <th>exang</th>\n",
       "      <th>oldpeak</th>\n",
       "      <th>slope</th>\n",
       "      <th>ca</th>\n",
       "      <th>thal</th>\n",
       "    </tr>\n",
       "  </thead>\n",
       "  <tbody>\n",
       "    <tr>\n",
       "      <th>180</th>\n",
       "      <td>55</td>\n",
       "      <td>1</td>\n",
       "      <td>0</td>\n",
       "      <td>132</td>\n",
       "      <td>353</td>\n",
       "      <td>0</td>\n",
       "      <td>1</td>\n",
       "      <td>132</td>\n",
       "      <td>1</td>\n",
       "      <td>1.2</td>\n",
       "      <td>1</td>\n",
       "      <td>1</td>\n",
       "      <td>3</td>\n",
       "    </tr>\n",
       "    <tr>\n",
       "      <th>239</th>\n",
       "      <td>35</td>\n",
       "      <td>1</td>\n",
       "      <td>0</td>\n",
       "      <td>126</td>\n",
       "      <td>282</td>\n",
       "      <td>0</td>\n",
       "      <td>0</td>\n",
       "      <td>156</td>\n",
       "      <td>1</td>\n",
       "      <td>0.0</td>\n",
       "      <td>2</td>\n",
       "      <td>0</td>\n",
       "      <td>3</td>\n",
       "    </tr>\n",
       "    <tr>\n",
       "      <th>14</th>\n",
       "      <td>58</td>\n",
       "      <td>0</td>\n",
       "      <td>3</td>\n",
       "      <td>150</td>\n",
       "      <td>283</td>\n",
       "      <td>1</td>\n",
       "      <td>0</td>\n",
       "      <td>162</td>\n",
       "      <td>0</td>\n",
       "      <td>1.0</td>\n",
       "      <td>2</td>\n",
       "      <td>0</td>\n",
       "      <td>2</td>\n",
       "    </tr>\n",
       "    <tr>\n",
       "      <th>117</th>\n",
       "      <td>56</td>\n",
       "      <td>1</td>\n",
       "      <td>3</td>\n",
       "      <td>120</td>\n",
       "      <td>193</td>\n",
       "      <td>0</td>\n",
       "      <td>0</td>\n",
       "      <td>162</td>\n",
       "      <td>0</td>\n",
       "      <td>1.9</td>\n",
       "      <td>1</td>\n",
       "      <td>0</td>\n",
       "      <td>3</td>\n",
       "    </tr>\n",
       "    <tr>\n",
       "      <th>274</th>\n",
       "      <td>47</td>\n",
       "      <td>1</td>\n",
       "      <td>0</td>\n",
       "      <td>110</td>\n",
       "      <td>275</td>\n",
       "      <td>0</td>\n",
       "      <td>0</td>\n",
       "      <td>118</td>\n",
       "      <td>1</td>\n",
       "      <td>1.0</td>\n",
       "      <td>1</td>\n",
       "      <td>1</td>\n",
       "      <td>2</td>\n",
       "    </tr>\n",
       "    <tr>\n",
       "      <th>...</th>\n",
       "      <td>...</td>\n",
       "      <td>...</td>\n",
       "      <td>...</td>\n",
       "      <td>...</td>\n",
       "      <td>...</td>\n",
       "      <td>...</td>\n",
       "      <td>...</td>\n",
       "      <td>...</td>\n",
       "      <td>...</td>\n",
       "      <td>...</td>\n",
       "      <td>...</td>\n",
       "      <td>...</td>\n",
       "      <td>...</td>\n",
       "    </tr>\n",
       "    <tr>\n",
       "      <th>192</th>\n",
       "      <td>54</td>\n",
       "      <td>1</td>\n",
       "      <td>0</td>\n",
       "      <td>120</td>\n",
       "      <td>188</td>\n",
       "      <td>0</td>\n",
       "      <td>1</td>\n",
       "      <td>113</td>\n",
       "      <td>0</td>\n",
       "      <td>1.4</td>\n",
       "      <td>1</td>\n",
       "      <td>1</td>\n",
       "      <td>3</td>\n",
       "    </tr>\n",
       "    <tr>\n",
       "      <th>230</th>\n",
       "      <td>47</td>\n",
       "      <td>1</td>\n",
       "      <td>2</td>\n",
       "      <td>108</td>\n",
       "      <td>243</td>\n",
       "      <td>0</td>\n",
       "      <td>1</td>\n",
       "      <td>152</td>\n",
       "      <td>0</td>\n",
       "      <td>0.0</td>\n",
       "      <td>2</td>\n",
       "      <td>0</td>\n",
       "      <td>2</td>\n",
       "    </tr>\n",
       "    <tr>\n",
       "      <th>148</th>\n",
       "      <td>44</td>\n",
       "      <td>1</td>\n",
       "      <td>2</td>\n",
       "      <td>120</td>\n",
       "      <td>226</td>\n",
       "      <td>0</td>\n",
       "      <td>1</td>\n",
       "      <td>169</td>\n",
       "      <td>0</td>\n",
       "      <td>0.0</td>\n",
       "      <td>2</td>\n",
       "      <td>0</td>\n",
       "      <td>2</td>\n",
       "    </tr>\n",
       "    <tr>\n",
       "      <th>58</th>\n",
       "      <td>34</td>\n",
       "      <td>1</td>\n",
       "      <td>3</td>\n",
       "      <td>118</td>\n",
       "      <td>182</td>\n",
       "      <td>0</td>\n",
       "      <td>0</td>\n",
       "      <td>174</td>\n",
       "      <td>0</td>\n",
       "      <td>0.0</td>\n",
       "      <td>2</td>\n",
       "      <td>0</td>\n",
       "      <td>2</td>\n",
       "    </tr>\n",
       "    <tr>\n",
       "      <th>18</th>\n",
       "      <td>43</td>\n",
       "      <td>1</td>\n",
       "      <td>0</td>\n",
       "      <td>150</td>\n",
       "      <td>247</td>\n",
       "      <td>0</td>\n",
       "      <td>1</td>\n",
       "      <td>171</td>\n",
       "      <td>0</td>\n",
       "      <td>1.5</td>\n",
       "      <td>2</td>\n",
       "      <td>0</td>\n",
       "      <td>2</td>\n",
       "    </tr>\n",
       "  </tbody>\n",
       "</table>\n",
       "<p>85 rows × 13 columns</p>\n",
       "</div>"
      ],
      "text/plain": [
       "     age  sex  cp  trestbps  chol  fbs  restecg  thalach  exang  oldpeak  \\\n",
       "180   55    1   0       132   353    0        1      132      1      1.2   \n",
       "239   35    1   0       126   282    0        0      156      1      0.0   \n",
       "14    58    0   3       150   283    1        0      162      0      1.0   \n",
       "117   56    1   3       120   193    0        0      162      0      1.9   \n",
       "274   47    1   0       110   275    0        0      118      1      1.0   \n",
       "..   ...  ...  ..       ...   ...  ...      ...      ...    ...      ...   \n",
       "192   54    1   0       120   188    0        1      113      0      1.4   \n",
       "230   47    1   2       108   243    0        1      152      0      0.0   \n",
       "148   44    1   2       120   226    0        1      169      0      0.0   \n",
       "58    34    1   3       118   182    0        0      174      0      0.0   \n",
       "18    43    1   0       150   247    0        1      171      0      1.5   \n",
       "\n",
       "     slope  ca  thal  \n",
       "180      1   1     3  \n",
       "239      2   0     3  \n",
       "14       2   0     2  \n",
       "117      1   0     3  \n",
       "274      1   1     2  \n",
       "..     ...  ..   ...  \n",
       "192      1   1     3  \n",
       "230      2   0     2  \n",
       "148      2   0     2  \n",
       "58       2   0     2  \n",
       "18       2   0     2  \n",
       "\n",
       "[85 rows x 13 columns]"
      ]
     },
     "execution_count": 30,
     "metadata": {},
     "output_type": "execute_result"
    }
   ],
   "source": [
    "x_test"
   ]
  },
  {
   "cell_type": "code",
   "execution_count": 31,
   "id": "9545ed5b",
   "metadata": {},
   "outputs": [
    {
     "data": {
      "text/plain": [
       "270    0\n",
       "88     1\n",
       "145    1\n",
       "105    1\n",
       "167    0\n",
       "      ..\n",
       "287    0\n",
       "200    0\n",
       "172    0\n",
       "7      1\n",
       "231    0\n",
       "Name: target, Length: 198, dtype: int64"
      ]
     },
     "execution_count": 31,
     "metadata": {},
     "output_type": "execute_result"
    }
   ],
   "source": [
    "y_train"
   ]
  },
  {
   "cell_type": "code",
   "execution_count": 32,
   "id": "93fc837b",
   "metadata": {},
   "outputs": [
    {
     "data": {
      "text/plain": [
       "180    0\n",
       "239    0\n",
       "14     1\n",
       "117    1\n",
       "274    0\n",
       "      ..\n",
       "192    0\n",
       "230    0\n",
       "148    1\n",
       "58     1\n",
       "18     1\n",
       "Name: target, Length: 85, dtype: int64"
      ]
     },
     "execution_count": 32,
     "metadata": {},
     "output_type": "execute_result"
    }
   ],
   "source": [
    "y_test"
   ]
  },
  {
   "cell_type": "code",
   "execution_count": 33,
   "id": "87b12e62",
   "metadata": {},
   "outputs": [],
   "source": [
    "from sklearn.tree import DecisionTreeClassifier"
   ]
  },
  {
   "cell_type": "code",
   "execution_count": 34,
   "id": "2c8f450b",
   "metadata": {},
   "outputs": [],
   "source": [
    "dt_model=DecisionTreeClassifier()"
   ]
  },
  {
   "cell_type": "code",
   "execution_count": 35,
   "id": "e7abc10e",
   "metadata": {},
   "outputs": [
    {
     "data": {
      "text/plain": [
       "DecisionTreeClassifier()"
      ]
     },
     "execution_count": 35,
     "metadata": {},
     "output_type": "execute_result"
    }
   ],
   "source": [
    "#fitting of data for training \n",
    "dt_model.fit(x_train,y_train)"
   ]
  },
  {
   "cell_type": "code",
   "execution_count": 36,
   "id": "b2403d78",
   "metadata": {},
   "outputs": [],
   "source": [
    "#predictions by model\n",
    "dt_pred=dt_model.predict(x_test)"
   ]
  },
  {
   "cell_type": "code",
   "execution_count": 37,
   "id": "7290e437",
   "metadata": {},
   "outputs": [
    {
     "data": {
      "text/plain": [
       "array([0, 0, 0, 0, 0, 1, 1, 0, 1, 0, 0, 1, 0, 0, 1, 0, 0, 1, 1, 1, 1, 1,\n",
       "       1, 1, 1, 0, 1, 1, 1, 0, 0, 0, 1, 1, 1, 1, 0, 0, 0, 1, 1, 0, 1, 1,\n",
       "       1, 1, 0, 1, 1, 0, 1, 1, 0, 0, 0, 0, 0, 0, 1, 1, 0, 0, 0, 1, 0, 1,\n",
       "       0, 0, 1, 1, 1, 1, 0, 0, 1, 0, 1, 0, 1, 1, 0, 1, 1, 1, 1],\n",
       "      dtype=int64)"
      ]
     },
     "execution_count": 37,
     "metadata": {},
     "output_type": "execute_result"
    }
   ],
   "source": [
    "dt_pred"
   ]
  },
  {
   "cell_type": "code",
   "execution_count": 38,
   "id": "fa7b8c38",
   "metadata": {},
   "outputs": [
    {
     "data": {
      "text/plain": [
       "180    0\n",
       "239    0\n",
       "14     1\n",
       "117    1\n",
       "274    0\n",
       "      ..\n",
       "192    0\n",
       "230    0\n",
       "148    1\n",
       "58     1\n",
       "18     1\n",
       "Name: target, Length: 85, dtype: int64"
      ]
     },
     "execution_count": 38,
     "metadata": {},
     "output_type": "execute_result"
    }
   ],
   "source": [
    "y_test"
   ]
  },
  {
   "cell_type": "code",
   "execution_count": 39,
   "id": "1394cba9",
   "metadata": {},
   "outputs": [],
   "source": [
    "from sklearn.metrics import accuracy_score, confusion_matrix"
   ]
  },
  {
   "cell_type": "code",
   "execution_count": 41,
   "id": "64694dac",
   "metadata": {},
   "outputs": [
    {
     "data": {
      "text/plain": [
       "0.8235294117647058"
      ]
     },
     "execution_count": 41,
     "metadata": {},
     "output_type": "execute_result"
    }
   ],
   "source": [
    "accuracy_score(dt_pred,y_test)"
   ]
  },
  {
   "cell_type": "code",
   "execution_count": 42,
   "id": "645cc628",
   "metadata": {},
   "outputs": [
    {
     "data": {
      "text/plain": [
       "array([[33,  6],\n",
       "       [ 9, 37]], dtype=int64)"
      ]
     },
     "execution_count": 42,
     "metadata": {},
     "output_type": "execute_result"
    }
   ],
   "source": [
    "confusion_matrix(dt_pred,y_test)"
   ]
  },
  {
   "cell_type": "code",
   "execution_count": 43,
   "id": "3b967bf4",
   "metadata": {},
   "outputs": [
    {
     "data": {
      "text/html": [
       "<div>\n",
       "<style scoped>\n",
       "    .dataframe tbody tr th:only-of-type {\n",
       "        vertical-align: middle;\n",
       "    }\n",
       "\n",
       "    .dataframe tbody tr th {\n",
       "        vertical-align: top;\n",
       "    }\n",
       "\n",
       "    .dataframe thead th {\n",
       "        text-align: right;\n",
       "    }\n",
       "</style>\n",
       "<table border=\"1\" class=\"dataframe\">\n",
       "  <thead>\n",
       "    <tr style=\"text-align: right;\">\n",
       "      <th></th>\n",
       "      <th>max_depth</th>\n",
       "      <th>accuracy</th>\n",
       "    </tr>\n",
       "  </thead>\n",
       "  <tbody>\n",
       "  </tbody>\n",
       "</table>\n",
       "</div>"
      ],
      "text/plain": [
       "Empty DataFrame\n",
       "Columns: [max_depth, accuracy]\n",
       "Index: []"
      ]
     },
     "execution_count": 43,
     "metadata": {},
     "output_type": "execute_result"
    }
   ],
   "source": [
    "parameter_values = [1,2,3,4,5,6,7,8,9,10,11,12,13,14,15]\n",
    "df1 = pd.DataFrame(columns=['max_depth', 'accuracy'])\n",
    "df1"
   ]
  },
  {
   "cell_type": "code",
   "execution_count": 44,
   "id": "0f75da93",
   "metadata": {},
   "outputs": [
    {
     "data": {
      "text/html": [
       "<div>\n",
       "<style scoped>\n",
       "    .dataframe tbody tr th:only-of-type {\n",
       "        vertical-align: middle;\n",
       "    }\n",
       "\n",
       "    .dataframe tbody tr th {\n",
       "        vertical-align: top;\n",
       "    }\n",
       "\n",
       "    .dataframe thead th {\n",
       "        text-align: right;\n",
       "    }\n",
       "</style>\n",
       "<table border=\"1\" class=\"dataframe\">\n",
       "  <thead>\n",
       "    <tr style=\"text-align: right;\">\n",
       "      <th></th>\n",
       "      <th>max_depth</th>\n",
       "      <th>accuracy</th>\n",
       "    </tr>\n",
       "  </thead>\n",
       "  <tbody>\n",
       "    <tr>\n",
       "      <th>0</th>\n",
       "      <td>1.0</td>\n",
       "      <td>77.647059</td>\n",
       "    </tr>\n",
       "    <tr>\n",
       "      <th>1</th>\n",
       "      <td>2.0</td>\n",
       "      <td>77.647059</td>\n",
       "    </tr>\n",
       "    <tr>\n",
       "      <th>2</th>\n",
       "      <td>3.0</td>\n",
       "      <td>88.235294</td>\n",
       "    </tr>\n",
       "    <tr>\n",
       "      <th>3</th>\n",
       "      <td>4.0</td>\n",
       "      <td>80.0</td>\n",
       "    </tr>\n",
       "    <tr>\n",
       "      <th>4</th>\n",
       "      <td>5.0</td>\n",
       "      <td>83.529412</td>\n",
       "    </tr>\n",
       "    <tr>\n",
       "      <th>5</th>\n",
       "      <td>6.0</td>\n",
       "      <td>78.823529</td>\n",
       "    </tr>\n",
       "    <tr>\n",
       "      <th>6</th>\n",
       "      <td>7.0</td>\n",
       "      <td>82.352941</td>\n",
       "    </tr>\n",
       "    <tr>\n",
       "      <th>7</th>\n",
       "      <td>8.0</td>\n",
       "      <td>80.0</td>\n",
       "    </tr>\n",
       "    <tr>\n",
       "      <th>8</th>\n",
       "      <td>9.0</td>\n",
       "      <td>78.823529</td>\n",
       "    </tr>\n",
       "    <tr>\n",
       "      <th>9</th>\n",
       "      <td>10.0</td>\n",
       "      <td>80.0</td>\n",
       "    </tr>\n",
       "    <tr>\n",
       "      <th>10</th>\n",
       "      <td>11.0</td>\n",
       "      <td>80.0</td>\n",
       "    </tr>\n",
       "    <tr>\n",
       "      <th>11</th>\n",
       "      <td>12.0</td>\n",
       "      <td>80.0</td>\n",
       "    </tr>\n",
       "    <tr>\n",
       "      <th>12</th>\n",
       "      <td>13.0</td>\n",
       "      <td>82.352941</td>\n",
       "    </tr>\n",
       "    <tr>\n",
       "      <th>13</th>\n",
       "      <td>14.0</td>\n",
       "      <td>82.352941</td>\n",
       "    </tr>\n",
       "    <tr>\n",
       "      <th>14</th>\n",
       "      <td>15.0</td>\n",
       "      <td>80.0</td>\n",
       "    </tr>\n",
       "  </tbody>\n",
       "</table>\n",
       "</div>"
      ],
      "text/plain": [
       "   max_depth   accuracy\n",
       "0        1.0  77.647059\n",
       "1        2.0  77.647059\n",
       "2        3.0  88.235294\n",
       "3        4.0       80.0\n",
       "4        5.0  83.529412\n",
       "5        6.0  78.823529\n",
       "6        7.0  82.352941\n",
       "7        8.0       80.0\n",
       "8        9.0  78.823529\n",
       "9       10.0       80.0\n",
       "10      11.0       80.0\n",
       "11      12.0       80.0\n",
       "12      13.0  82.352941\n",
       "13      14.0  82.352941\n",
       "14      15.0       80.0"
      ]
     },
     "execution_count": 44,
     "metadata": {},
     "output_type": "execute_result"
    }
   ],
   "source": [
    "for X in parameter_values:\n",
    "    model = DecisionTreeClassifier(max_depth=X)\n",
    "    model.fit(x_train, y_train)\n",
    "    y_pred = model.predict(x_test)\n",
    "    acc_score = accuracy_score(y_test,y_pred)*100\n",
    "    df1= df1.append({'max_depth' : X , 'accuracy' : acc_score}, ignore_index=True) \n",
    "df1"
   ]
  },
  {
   "cell_type": "code",
   "execution_count": 82,
   "id": "abcac8ff",
   "metadata": {},
   "outputs": [],
   "source": [
    "final_model = DecisionTreeClassifier(max_depth=3)\n",
    "final_model.fit(x_train, y_train)\n",
    "y_pred = final_model.predict(x_test)\n",
    "acc_score = accuracy_score(y_test,y_pred)*100"
   ]
  },
  {
   "cell_type": "code",
   "execution_count": 83,
   "id": "392c0b8c",
   "metadata": {},
   "outputs": [
    {
     "data": {
      "text/plain": [
       "88.23529411764706"
      ]
     },
     "execution_count": 83,
     "metadata": {},
     "output_type": "execute_result"
    }
   ],
   "source": [
    "acc_score"
   ]
  },
  {
   "cell_type": "code",
   "execution_count": 84,
   "id": "b0582fc8",
   "metadata": {},
   "outputs": [
    {
     "data": {
      "text/plain": [
       "array([[35,  7],\n",
       "       [ 3, 40]], dtype=int64)"
      ]
     },
     "execution_count": 84,
     "metadata": {},
     "output_type": "execute_result"
    }
   ],
   "source": [
    "confusion_matrix(y_test,y_pred)"
   ]
  },
  {
   "cell_type": "code",
   "execution_count": null,
   "id": "b4bbfee4",
   "metadata": {},
   "outputs": [],
   "source": []
  }
 ],
 "metadata": {
  "kernelspec": {
   "display_name": "Python 3 (ipykernel)",
   "language": "python",
   "name": "python3"
  },
  "language_info": {
   "codemirror_mode": {
    "name": "ipython",
    "version": 3
   },
   "file_extension": ".py",
   "mimetype": "text/x-python",
   "name": "python",
   "nbconvert_exporter": "python",
   "pygments_lexer": "ipython3",
   "version": "3.9.12"
  }
 },
 "nbformat": 4,
 "nbformat_minor": 5
}
